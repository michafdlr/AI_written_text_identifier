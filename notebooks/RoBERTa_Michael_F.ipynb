{
 "cells": [
  {
   "attachments": {},
   "cell_type": "markdown",
   "metadata": {},
   "source": [
    "# Use transfer-learning with huggingface-transformers library"
   ]
  },
  {
   "attachments": {},
   "cell_type": "markdown",
   "metadata": {},
   "source": [
    "## Load data and make it accessible for huggingface environment"
   ]
  },
  {
   "cell_type": "code",
   "execution_count": 2,
   "metadata": {},
   "outputs": [],
   "source": [
    "%load_ext autoreload\n",
    "%autoreload 2"
   ]
  },
  {
   "cell_type": "code",
   "execution_count": 3,
   "metadata": {},
   "outputs": [
    {
     "name": "stderr",
     "output_type": "stream",
     "text": [
      "/Users/michaelfiedler/.pyenv/versions/3.10.6/envs/AI_written_text_identifier/lib/python3.10/site-packages/tqdm/auto.py:21: TqdmWarning: IProgress not found. Please update jupyter and ipywidgets. See https://ipywidgets.readthedocs.io/en/stable/user_install.html\n",
      "  from .autonotebook import tqdm as notebook_tqdm\n"
     ]
    }
   ],
   "source": [
    "import matplotlib.pyplot as plt\n",
    "import transformers\n",
    "from transformers import (AutoTokenizer, \n",
    "                          TFAutoModel,\n",
    "                          TFAutoModelForSequenceClassification\n",
    "                          )\n",
    "from datasets import Dataset, DatasetDict, load_from_disk, load_dataset # to use huggingface datasets\n",
    "from detector.utils import load_data, divide_frame\n",
    "import tensorflow as tf\n",
    "from tensorflow import keras\n",
    "from tensorflow.keras import layers, optimizers, callbacks, Model\n",
    "import torch\n",
    "import pandas as pd\n",
    "import numpy as np\n",
    "from sklearn.linear_model import LogisticRegression\n",
    "from sklearn.model_selection import GridSearchCV, PredefinedSplit, RandomizedSearchCV\n",
    "from joblib import dump, load\n",
    "\n",
    "transformers.utils.logging.set_verbosity_error()"
   ]
  },
  {
   "cell_type": "code",
   "execution_count": 4,
   "metadata": {},
   "outputs": [
    {
     "data": {
      "text/plain": [
       "[PhysicalDevice(name='/physical_device:CPU:0', device_type='CPU'),\n",
       " PhysicalDevice(name='/physical_device:GPU:0', device_type='GPU')]"
      ]
     },
     "execution_count": 4,
     "metadata": {},
     "output_type": "execute_result"
    }
   ],
   "source": [
    "tf.config.list_physical_devices()"
   ]
  },
  {
   "cell_type": "code",
   "execution_count": 452,
   "metadata": {},
   "outputs": [
    {
     "name": "stderr",
     "output_type": "stream",
     "text": [
      "WARNING:datasets.builder:Found cached dataset csv (/Users/michaelfiedler/.cache/huggingface/datasets/aadityaubhat___csv/aadityaubhat--GPT-wiki-intro-10ad8b711a5f3880/0.0.0/eea64c71ca8b46dd3f537ed218fc9bf495d5707789152eb2764f5c78fa66d59d)\n",
      "100%|██████████| 1/1 [00:00<00:00, 17.14it/s]\n"
     ]
    },
    {
     "data": {
      "text/html": [
       "<div>\n",
       "<style scoped>\n",
       "    .dataframe tbody tr th:only-of-type {\n",
       "        vertical-align: middle;\n",
       "    }\n",
       "\n",
       "    .dataframe tbody tr th {\n",
       "        vertical-align: top;\n",
       "    }\n",
       "\n",
       "    .dataframe thead th {\n",
       "        text-align: right;\n",
       "    }\n",
       "</style>\n",
       "<table border=\"1\" class=\"dataframe\">\n",
       "  <thead>\n",
       "    <tr style=\"text-align: right;\">\n",
       "      <th></th>\n",
       "      <th>text</th>\n",
       "      <th>AI</th>\n",
       "      <th>version</th>\n",
       "    </tr>\n",
       "  </thead>\n",
       "  <tbody>\n",
       "    <tr>\n",
       "      <th>0</th>\n",
       "      <td>Sexhow railway station was a railway station l...</td>\n",
       "      <td>1</td>\n",
       "      <td>gpt3</td>\n",
       "    </tr>\n",
       "    <tr>\n",
       "      <th>1</th>\n",
       "      <td>In Finnish folklore, all places and things, an...</td>\n",
       "      <td>1</td>\n",
       "      <td>gpt3</td>\n",
       "    </tr>\n",
       "    <tr>\n",
       "      <th>2</th>\n",
       "      <td>In mathematics, specifically differential calc...</td>\n",
       "      <td>1</td>\n",
       "      <td>gpt3</td>\n",
       "    </tr>\n",
       "    <tr>\n",
       "      <th>3</th>\n",
       "      <td>is a Japanese shōjo manga series written and i...</td>\n",
       "      <td>1</td>\n",
       "      <td>gpt3</td>\n",
       "    </tr>\n",
       "    <tr>\n",
       "      <th>4</th>\n",
       "      <td>Robert Milner \"Rob\" Bradley, Jr. (born August ...</td>\n",
       "      <td>1</td>\n",
       "      <td>gpt3</td>\n",
       "    </tr>\n",
       "    <tr>\n",
       "      <th>...</th>\n",
       "      <td>...</td>\n",
       "      <td>...</td>\n",
       "      <td>...</td>\n",
       "    </tr>\n",
       "    <tr>\n",
       "      <th>149995</th>\n",
       "      <td>Randy Borum is a Professor and Coordinator of ...</td>\n",
       "      <td>1</td>\n",
       "      <td>gpt3</td>\n",
       "    </tr>\n",
       "    <tr>\n",
       "      <th>149996</th>\n",
       "      <td>Sa'och (, also, \"Sauch\") is an endangered, nuc...</td>\n",
       "      <td>1</td>\n",
       "      <td>gpt3</td>\n",
       "    </tr>\n",
       "    <tr>\n",
       "      <th>149997</th>\n",
       "      <td>Philip C. Hanawalt (born 1931) is an American ...</td>\n",
       "      <td>1</td>\n",
       "      <td>gpt3</td>\n",
       "    </tr>\n",
       "    <tr>\n",
       "      <th>149998</th>\n",
       "      <td>Vossius Gymnasium is a public gymnasium in the...</td>\n",
       "      <td>1</td>\n",
       "      <td>gpt3</td>\n",
       "    </tr>\n",
       "    <tr>\n",
       "      <th>149999</th>\n",
       "      <td>Simone Stratigo (, Symeon Filippos Stratigos; ...</td>\n",
       "      <td>1</td>\n",
       "      <td>gpt3</td>\n",
       "    </tr>\n",
       "  </tbody>\n",
       "</table>\n",
       "<p>150000 rows × 3 columns</p>\n",
       "</div>"
      ],
      "text/plain": [
       "                                                     text  AI version\n",
       "0       Sexhow railway station was a railway station l...   1    gpt3\n",
       "1       In Finnish folklore, all places and things, an...   1    gpt3\n",
       "2       In mathematics, specifically differential calc...   1    gpt3\n",
       "3       is a Japanese shōjo manga series written and i...   1    gpt3\n",
       "4       Robert Milner \"Rob\" Bradley, Jr. (born August ...   1    gpt3\n",
       "...                                                   ...  ..     ...\n",
       "149995  Randy Borum is a Professor and Coordinator of ...   1    gpt3\n",
       "149996  Sa'och (, also, \"Sauch\") is an endangered, nuc...   1    gpt3\n",
       "149997  Philip C. Hanawalt (born 1931) is an American ...   1    gpt3\n",
       "149998  Vossius Gymnasium is a public gymnasium in the...   1    gpt3\n",
       "149999  Simone Stratigo (, Symeon Filippos Stratigos; ...   1    gpt3\n",
       "\n",
       "[150000 rows x 3 columns]"
      ]
     },
     "execution_count": 452,
     "metadata": {},
     "output_type": "execute_result"
    }
   ],
   "source": [
    "# Load gpt3 outputs\n",
    "gpt_simple = load_dataset('aadityaubhat/GPT-wiki-intro')\n",
    "gpt_simple.set_format(type='pandas')\n",
    "df_gpt3 = pd.DataFrame(columns=['text', 'AI'])\n",
    "df_gpt3['text'] = gpt_simple['train']['generated_intro']\n",
    "df_gpt3['AI'] = 1\n",
    "df_gpt3[\"version\"] = \"gpt3\"\n",
    "df_gpt3.to_csv(\"gpt3_output/gpt3_simple.csv\", index=False)\n",
    "df_gpt3.reset_index(drop=True)"
   ]
  },
  {
   "cell_type": "code",
   "execution_count": 453,
   "metadata": {},
   "outputs": [],
   "source": [
    "df_gpt3_advanced = pd.read_csv(\"gpt3_output/gpt3_advanced.csv\")"
   ]
  },
  {
   "cell_type": "code",
   "execution_count": 454,
   "metadata": {},
   "outputs": [
    {
     "data": {
      "text/html": [
       "<div>\n",
       "<style scoped>\n",
       "    .dataframe tbody tr th:only-of-type {\n",
       "        vertical-align: middle;\n",
       "    }\n",
       "\n",
       "    .dataframe tbody tr th {\n",
       "        vertical-align: top;\n",
       "    }\n",
       "\n",
       "    .dataframe thead th {\n",
       "        text-align: right;\n",
       "    }\n",
       "</style>\n",
       "<table border=\"1\" class=\"dataframe\">\n",
       "  <thead>\n",
       "    <tr style=\"text-align: right;\">\n",
       "      <th></th>\n",
       "      <th>text</th>\n",
       "      <th>AI</th>\n",
       "      <th>version</th>\n",
       "    </tr>\n",
       "  </thead>\n",
       "  <tbody>\n",
       "    <tr>\n",
       "      <th>0</th>\n",
       "      <td>Washington D.C. - In the midst of a polarizing...</td>\n",
       "      <td>1</td>\n",
       "      <td>gpt3.5</td>\n",
       "    </tr>\n",
       "    <tr>\n",
       "      <th>1</th>\n",
       "      <td>Science: The Key to Our Future\\n\\nScience has ...</td>\n",
       "      <td>1</td>\n",
       "      <td>gpt3.5</td>\n",
       "    </tr>\n",
       "    <tr>\n",
       "      <th>2</th>\n",
       "      <td>Local High School Wins State Championship in B...</td>\n",
       "      <td>1</td>\n",
       "      <td>gpt3.5</td>\n",
       "    </tr>\n",
       "    <tr>\n",
       "      <th>3</th>\n",
       "      <td>Mathematics: More Than Just Numbers\\n\\nMathema...</td>\n",
       "      <td>1</td>\n",
       "      <td>gpt3.5</td>\n",
       "    </tr>\n",
       "    <tr>\n",
       "      <th>4</th>\n",
       "      <td>Tragic Car Accident Claims Three Lives\\n\\nIn a...</td>\n",
       "      <td>1</td>\n",
       "      <td>gpt3.5</td>\n",
       "    </tr>\n",
       "    <tr>\n",
       "      <th>...</th>\n",
       "      <td>...</td>\n",
       "      <td>...</td>\n",
       "      <td>...</td>\n",
       "    </tr>\n",
       "    <tr>\n",
       "      <th>23649</th>\n",
       "      <td>The educational system of Germany\\n\\nGermany i...</td>\n",
       "      <td>1</td>\n",
       "      <td>gpt3.5</td>\n",
       "    </tr>\n",
       "    <tr>\n",
       "      <th>23650</th>\n",
       "      <td>The educational system in Finland is often tou...</td>\n",
       "      <td>1</td>\n",
       "      <td>gpt3.5</td>\n",
       "    </tr>\n",
       "    <tr>\n",
       "      <th>23651</th>\n",
       "      <td>Education is an essential aspect of any societ...</td>\n",
       "      <td>1</td>\n",
       "      <td>gpt3.5</td>\n",
       "    </tr>\n",
       "    <tr>\n",
       "      <th>23652</th>\n",
       "      <td>The educational system of Germany is one of th...</td>\n",
       "      <td>1</td>\n",
       "      <td>gpt3.5</td>\n",
       "    </tr>\n",
       "    <tr>\n",
       "      <th>23653</th>\n",
       "      <td>As a student, it's important to understand the...</td>\n",
       "      <td>1</td>\n",
       "      <td>gpt3.5</td>\n",
       "    </tr>\n",
       "  </tbody>\n",
       "</table>\n",
       "<p>23654 rows × 3 columns</p>\n",
       "</div>"
      ],
      "text/plain": [
       "                                                    text  AI version\n",
       "0      Washington D.C. - In the midst of a polarizing...   1  gpt3.5\n",
       "1      Science: The Key to Our Future\\n\\nScience has ...   1  gpt3.5\n",
       "2      Local High School Wins State Championship in B...   1  gpt3.5\n",
       "3      Mathematics: More Than Just Numbers\\n\\nMathema...   1  gpt3.5\n",
       "4      Tragic Car Accident Claims Three Lives\\n\\nIn a...   1  gpt3.5\n",
       "...                                                  ...  ..     ...\n",
       "23649  The educational system of Germany\\n\\nGermany i...   1  gpt3.5\n",
       "23650  The educational system in Finland is often tou...   1  gpt3.5\n",
       "23651  Education is an essential aspect of any societ...   1  gpt3.5\n",
       "23652  The educational system of Germany is one of th...   1  gpt3.5\n",
       "23653  As a student, it's important to understand the...   1  gpt3.5\n",
       "\n",
       "[23654 rows x 3 columns]"
      ]
     },
     "execution_count": 454,
     "metadata": {},
     "output_type": "execute_result"
    }
   ],
   "source": [
    "df_gpt3_advanced[\"version\"] = \"gpt3.5\"\n",
    "df_gpt3_advanced"
   ]
  },
  {
   "cell_type": "code",
   "execution_count": 387,
   "metadata": {},
   "outputs": [],
   "source": [
    "data = load_data()"
   ]
  },
  {
   "cell_type": "code",
   "execution_count": 465,
   "metadata": {},
   "outputs": [],
   "source": [
    "train, val, test = (data[\"train\"].reset_index(drop=True), \n",
    "                    data[\"valid\"].reset_index(drop=True), \n",
    "                    data[\"test\"].reset_index(drop=True))\n",
    "\n",
    "\n",
    "def remove_newline(text: str) -> str:\n",
    "    return text.replace(\"\\n\", \" \")\n",
    "\n",
    "for df in [train, val, test]:\n",
    "    df[\"version\"] = np.where(df[\"AI\"] ==1, \"gpt2\", \"human\")\n",
    "    \n",
    "for df in [train, val, test, df_gpt3, df_gpt3_advanced]:\n",
    "    df[\"text\"] = df[\"text\"].apply(remove_newline)\n",
    "    df[\"text_length\"] = df['text'].apply(len)"
   ]
  },
  {
   "cell_type": "code",
   "execution_count": 466,
   "metadata": {},
   "outputs": [
    {
     "data": {
      "text/html": [
       "<div>\n",
       "<style scoped>\n",
       "    .dataframe tbody tr th:only-of-type {\n",
       "        vertical-align: middle;\n",
       "    }\n",
       "\n",
       "    .dataframe tbody tr th {\n",
       "        vertical-align: top;\n",
       "    }\n",
       "\n",
       "    .dataframe thead th {\n",
       "        text-align: right;\n",
       "    }\n",
       "</style>\n",
       "<table border=\"1\" class=\"dataframe\">\n",
       "  <thead>\n",
       "    <tr style=\"text-align: right;\">\n",
       "      <th></th>\n",
       "      <th>text</th>\n",
       "      <th>AI</th>\n",
       "      <th>version</th>\n",
       "      <th>text_length</th>\n",
       "    </tr>\n",
       "  </thead>\n",
       "  <tbody>\n",
       "    <tr>\n",
       "      <th>0</th>\n",
       "      <td>Generative AI, also known as creative AI, is a...</td>\n",
       "      <td>1</td>\n",
       "      <td>gpt3.5</td>\n",
       "      <td>1605</td>\n",
       "    </tr>\n",
       "    <tr>\n",
       "      <th>1</th>\n",
       "      <td>Science: Advancements and Discoveries in the F...</td>\n",
       "      <td>1</td>\n",
       "      <td>gpt3.5</td>\n",
       "      <td>2301</td>\n",
       "    </tr>\n",
       "    <tr>\n",
       "      <th>2</th>\n",
       "      <td>The education system of Finland is known as on...</td>\n",
       "      <td>1</td>\n",
       "      <td>gpt3.5</td>\n",
       "      <td>1177</td>\n",
       "    </tr>\n",
       "    <tr>\n",
       "      <th>3</th>\n",
       "      <td>Sports have been an integral part of human soc...</td>\n",
       "      <td>1</td>\n",
       "      <td>gpt3.5</td>\n",
       "      <td>674</td>\n",
       "    </tr>\n",
       "    <tr>\n",
       "      <th>4</th>\n",
       "      <td>Tragic Car Accident Claims Three Lives  On Fri...</td>\n",
       "      <td>1</td>\n",
       "      <td>gpt3.5</td>\n",
       "      <td>1071</td>\n",
       "    </tr>\n",
       "    <tr>\n",
       "      <th>...</th>\n",
       "      <td>...</td>\n",
       "      <td>...</td>\n",
       "      <td>...</td>\n",
       "      <td>...</td>\n",
       "    </tr>\n",
       "    <tr>\n",
       "      <th>23649</th>\n",
       "      <td>Artificial intelligence (AI) has seen tremendo...</td>\n",
       "      <td>1</td>\n",
       "      <td>gpt3.5</td>\n",
       "      <td>661</td>\n",
       "    </tr>\n",
       "    <tr>\n",
       "      <th>23650</th>\n",
       "      <td>Title: Local High School Wins State Championsh...</td>\n",
       "      <td>1</td>\n",
       "      <td>gpt3.5</td>\n",
       "      <td>1865</td>\n",
       "    </tr>\n",
       "    <tr>\n",
       "      <th>23651</th>\n",
       "      <td>Generative AI Revolutionizes Creative Industri...</td>\n",
       "      <td>1</td>\n",
       "      <td>gpt3.5</td>\n",
       "      <td>1061</td>\n",
       "    </tr>\n",
       "    <tr>\n",
       "      <th>23652</th>\n",
       "      <td>Introduction:  Education is one of the crucial...</td>\n",
       "      <td>1</td>\n",
       "      <td>gpt3.5</td>\n",
       "      <td>1135</td>\n",
       "    </tr>\n",
       "    <tr>\n",
       "      <th>23653</th>\n",
       "      <td>The war in Ukraine has been ongoing since 2014...</td>\n",
       "      <td>1</td>\n",
       "      <td>gpt3.5</td>\n",
       "      <td>1574</td>\n",
       "    </tr>\n",
       "  </tbody>\n",
       "</table>\n",
       "<p>23654 rows × 4 columns</p>\n",
       "</div>"
      ],
      "text/plain": [
       "                                                    text  AI version  \\\n",
       "0      Generative AI, also known as creative AI, is a...   1  gpt3.5   \n",
       "1      Science: Advancements and Discoveries in the F...   1  gpt3.5   \n",
       "2      The education system of Finland is known as on...   1  gpt3.5   \n",
       "3      Sports have been an integral part of human soc...   1  gpt3.5   \n",
       "4      Tragic Car Accident Claims Three Lives  On Fri...   1  gpt3.5   \n",
       "...                                                  ...  ..     ...   \n",
       "23649  Artificial intelligence (AI) has seen tremendo...   1  gpt3.5   \n",
       "23650  Title: Local High School Wins State Championsh...   1  gpt3.5   \n",
       "23651  Generative AI Revolutionizes Creative Industri...   1  gpt3.5   \n",
       "23652  Introduction:  Education is one of the crucial...   1  gpt3.5   \n",
       "23653  The war in Ukraine has been ongoing since 2014...   1  gpt3.5   \n",
       "\n",
       "       text_length  \n",
       "0             1605  \n",
       "1             2301  \n",
       "2             1177  \n",
       "3              674  \n",
       "4             1071  \n",
       "...            ...  \n",
       "23649          661  \n",
       "23650         1865  \n",
       "23651         1061  \n",
       "23652         1135  \n",
       "23653         1574  \n",
       "\n",
       "[23654 rows x 4 columns]"
      ]
     },
     "execution_count": 466,
     "metadata": {},
     "output_type": "execute_result"
    }
   ],
   "source": [
    "df_gpt3_advanced = df_gpt3_advanced.sample(frac=1,random_state=1).reset_index(drop=True)\n",
    "df_gpt3_advanced"
   ]
  },
  {
   "cell_type": "code",
   "execution_count": 467,
   "metadata": {},
   "outputs": [],
   "source": [
    "train = pd.concat([train, df_gpt3.iloc[:140_000, :], df_gpt3_advanced.iloc[:-5000,:]])\n",
    "val = pd.concat([val, df_gpt3.iloc[140_000:145_000,:], df_gpt3_advanced.iloc[-5000:-2500,:]])\n",
    "test = pd.concat([test, df_gpt3.iloc[145_000:,:], df_gpt3_advanced.iloc[-2500:,:]])"
   ]
  },
  {
   "cell_type": "code",
   "execution_count": 468,
   "metadata": {},
   "outputs": [
    {
     "data": {
      "text/plain": [
       "version\n",
       "human     250000\n",
       "gpt2      250000\n",
       "gpt3      140000\n",
       "gpt3.5     18654\n",
       "Name: count, dtype: int64"
      ]
     },
     "execution_count": 468,
     "metadata": {},
     "output_type": "execute_result"
    }
   ],
   "source": [
    "train.version.value_counts()"
   ]
  },
  {
   "cell_type": "code",
   "execution_count": 6,
   "metadata": {},
   "outputs": [],
   "source": [
    "train_size = 70_000"
   ]
  },
  {
   "cell_type": "code",
   "execution_count": 470,
   "metadata": {},
   "outputs": [],
   "source": [
    "train_sample = pd.concat(\n",
    "                    [train[train.version == \"human\"].sample(n=train_size//2, random_state=1),\n",
    "                    train[train.version == \"gpt2\"].sample(n=train_size//8, random_state=1),\n",
    "                    train[train.version == \"gpt3\"].sample(n=train_size//8, random_state=1),\n",
    "                    train[train.version == \"gpt3.5\"].sample(n=train_size//4, random_state=1)]\n",
    "                    ).reset_index(drop=True)\n",
    "val = pd.concat([val[val.version == \"human\"].sample(5000, random_state=1),\n",
    "                 val[val.version == \"gpt2\"].sample(1250, random_state=1),\n",
    "                 val[val.version == \"gpt3\"].sample(1250, random_state=1),\n",
    "                 val[val.version == \"gpt3.5\"].sample(2500, random_state=1)]).reset_index(drop=True)\n",
    "test = pd.concat([test[test.version == \"human\"].sample(5000, random_state=1),\n",
    "                 test[test.version == \"gpt2\"].sample(1250, random_state=1),\n",
    "                 test[test.version == \"gpt3\"].sample(1250, random_state=1),\n",
    "                 test[test.version == \"gpt3.5\"].sample(2500, random_state=1)]).reset_index(drop=True)"
   ]
  },
  {
   "cell_type": "code",
   "execution_count": 471,
   "metadata": {},
   "outputs": [
    {
     "data": {
      "text/html": [
       "<div>\n",
       "<style scoped>\n",
       "    .dataframe tbody tr th:only-of-type {\n",
       "        vertical-align: middle;\n",
       "    }\n",
       "\n",
       "    .dataframe tbody tr th {\n",
       "        vertical-align: top;\n",
       "    }\n",
       "\n",
       "    .dataframe thead th {\n",
       "        text-align: right;\n",
       "    }\n",
       "</style>\n",
       "<table border=\"1\" class=\"dataframe\">\n",
       "  <thead>\n",
       "    <tr style=\"text-align: right;\">\n",
       "      <th></th>\n",
       "      <th>text</th>\n",
       "      <th>AI</th>\n",
       "      <th>version</th>\n",
       "      <th>text_length</th>\n",
       "    </tr>\n",
       "  </thead>\n",
       "  <tbody>\n",
       "    <tr>\n",
       "      <th>0</th>\n",
       "      <td>drereichdude's Thoughts:  This is one of my fa...</td>\n",
       "      <td>0</td>\n",
       "      <td>human</td>\n",
       "      <td>1714</td>\n",
       "    </tr>\n",
       "    <tr>\n",
       "      <th>1</th>\n",
       "      <td>Duration (Minutes)When current flows through w...</td>\n",
       "      <td>0</td>\n",
       "      <td>human</td>\n",
       "      <td>572</td>\n",
       "    </tr>\n",
       "    <tr>\n",
       "      <th>2</th>\n",
       "      <td># !/usr/bin/env python  '''  NAME  ghc-coloriz...</td>\n",
       "      <td>0</td>\n",
       "      <td>human</td>\n",
       "      <td>3126</td>\n",
       "    </tr>\n",
       "    <tr>\n",
       "      <th>3</th>\n",
       "      <td>I think Azure Logic Apps is a great way to imp...</td>\n",
       "      <td>0</td>\n",
       "      <td>human</td>\n",
       "      <td>4309</td>\n",
       "    </tr>\n",
       "    <tr>\n",
       "      <th>4</th>\n",
       "      <td>Recipe for a vegan Falafel Burger with avocado...</td>\n",
       "      <td>0</td>\n",
       "      <td>human</td>\n",
       "      <td>3989</td>\n",
       "    </tr>\n",
       "    <tr>\n",
       "      <th>...</th>\n",
       "      <td>...</td>\n",
       "      <td>...</td>\n",
       "      <td>...</td>\n",
       "      <td>...</td>\n",
       "    </tr>\n",
       "    <tr>\n",
       "      <th>69995</th>\n",
       "      <td>Machine learning is an exciting field of compu...</td>\n",
       "      <td>1</td>\n",
       "      <td>gpt3.5</td>\n",
       "      <td>1091</td>\n",
       "    </tr>\n",
       "    <tr>\n",
       "      <th>69996</th>\n",
       "      <td>Mathematics is a fundamental subject that has ...</td>\n",
       "      <td>1</td>\n",
       "      <td>gpt3.5</td>\n",
       "      <td>716</td>\n",
       "    </tr>\n",
       "    <tr>\n",
       "      <th>69997</th>\n",
       "      <td>Mathematics, often referred to as the language...</td>\n",
       "      <td>1</td>\n",
       "      <td>gpt3.5</td>\n",
       "      <td>2075</td>\n",
       "    </tr>\n",
       "    <tr>\n",
       "      <th>69998</th>\n",
       "      <td>Sports have been a fundamental aspect of human...</td>\n",
       "      <td>1</td>\n",
       "      <td>gpt3.5</td>\n",
       "      <td>818</td>\n",
       "    </tr>\n",
       "    <tr>\n",
       "      <th>69999</th>\n",
       "      <td>Three Injured in Car Accident on Main Street  ...</td>\n",
       "      <td>1</td>\n",
       "      <td>gpt3.5</td>\n",
       "      <td>1480</td>\n",
       "    </tr>\n",
       "  </tbody>\n",
       "</table>\n",
       "<p>70000 rows × 4 columns</p>\n",
       "</div>"
      ],
      "text/plain": [
       "                                                    text  AI version  \\\n",
       "0      drereichdude's Thoughts:  This is one of my fa...   0   human   \n",
       "1      Duration (Minutes)When current flows through w...   0   human   \n",
       "2      # !/usr/bin/env python  '''  NAME  ghc-coloriz...   0   human   \n",
       "3      I think Azure Logic Apps is a great way to imp...   0   human   \n",
       "4      Recipe for a vegan Falafel Burger with avocado...   0   human   \n",
       "...                                                  ...  ..     ...   \n",
       "69995  Machine learning is an exciting field of compu...   1  gpt3.5   \n",
       "69996  Mathematics is a fundamental subject that has ...   1  gpt3.5   \n",
       "69997  Mathematics, often referred to as the language...   1  gpt3.5   \n",
       "69998  Sports have been a fundamental aspect of human...   1  gpt3.5   \n",
       "69999  Three Injured in Car Accident on Main Street  ...   1  gpt3.5   \n",
       "\n",
       "       text_length  \n",
       "0             1714  \n",
       "1              572  \n",
       "2             3126  \n",
       "3             4309  \n",
       "4             3989  \n",
       "...            ...  \n",
       "69995         1091  \n",
       "69996          716  \n",
       "69997         2075  \n",
       "69998          818  \n",
       "69999         1480  \n",
       "\n",
       "[70000 rows x 4 columns]"
      ]
     },
     "metadata": {},
     "output_type": "display_data"
    },
    {
     "data": {
      "text/html": [
       "<div>\n",
       "<style scoped>\n",
       "    .dataframe tbody tr th:only-of-type {\n",
       "        vertical-align: middle;\n",
       "    }\n",
       "\n",
       "    .dataframe tbody tr th {\n",
       "        vertical-align: top;\n",
       "    }\n",
       "\n",
       "    .dataframe thead th {\n",
       "        text-align: right;\n",
       "    }\n",
       "</style>\n",
       "<table border=\"1\" class=\"dataframe\">\n",
       "  <thead>\n",
       "    <tr style=\"text-align: right;\">\n",
       "      <th></th>\n",
       "      <th>text</th>\n",
       "      <th>AI</th>\n",
       "      <th>version</th>\n",
       "      <th>text_length</th>\n",
       "    </tr>\n",
       "  </thead>\n",
       "  <tbody>\n",
       "    <tr>\n",
       "      <th>0</th>\n",
       "      <td>Behold, a virgin shall conceive, and bear a so...</td>\n",
       "      <td>0</td>\n",
       "      <td>human</td>\n",
       "      <td>3807</td>\n",
       "    </tr>\n",
       "    <tr>\n",
       "      <th>1</th>\n",
       "      <td>John Fetterman, center, the mayor of Braddock,...</td>\n",
       "      <td>0</td>\n",
       "      <td>human</td>\n",
       "      <td>4486</td>\n",
       "    </tr>\n",
       "    <tr>\n",
       "      <th>2</th>\n",
       "      <td>Who is Alec Torelli?  Alec Torelli has a uniqu...</td>\n",
       "      <td>0</td>\n",
       "      <td>human</td>\n",
       "      <td>543</td>\n",
       "    </tr>\n",
       "    <tr>\n",
       "      <th>3</th>\n",
       "      <td>The year is 2084. If you somehow survived the ...</td>\n",
       "      <td>0</td>\n",
       "      <td>human</td>\n",
       "      <td>1136</td>\n",
       "    </tr>\n",
       "    <tr>\n",
       "      <th>4</th>\n",
       "      <td>AUSTIN, United States — \"Rejections.\" That's w...</td>\n",
       "      <td>0</td>\n",
       "      <td>human</td>\n",
       "      <td>4788</td>\n",
       "    </tr>\n",
       "    <tr>\n",
       "      <th>...</th>\n",
       "      <td>...</td>\n",
       "      <td>...</td>\n",
       "      <td>...</td>\n",
       "      <td>...</td>\n",
       "    </tr>\n",
       "    <tr>\n",
       "      <th>9995</th>\n",
       "      <td>Opening shot of a computer screen with code ru...</td>\n",
       "      <td>1</td>\n",
       "      <td>gpt3.5</td>\n",
       "      <td>1884</td>\n",
       "    </tr>\n",
       "    <tr>\n",
       "      <th>9996</th>\n",
       "      <td>Introduction:  Machine learning is a subset of...</td>\n",
       "      <td>1</td>\n",
       "      <td>gpt3.5</td>\n",
       "      <td>1171</td>\n",
       "    </tr>\n",
       "    <tr>\n",
       "      <th>9997</th>\n",
       "      <td>Title: The Beauty of Mathematics  Opening shot...</td>\n",
       "      <td>1</td>\n",
       "      <td>gpt3.5</td>\n",
       "      <td>1834</td>\n",
       "    </tr>\n",
       "    <tr>\n",
       "      <th>9998</th>\n",
       "      <td>Introduction:  Machine learning is a field of ...</td>\n",
       "      <td>1</td>\n",
       "      <td>gpt3.5</td>\n",
       "      <td>1131</td>\n",
       "    </tr>\n",
       "    <tr>\n",
       "      <th>9999</th>\n",
       "      <td>[Opening shot of a computer screen showing a g...</td>\n",
       "      <td>1</td>\n",
       "      <td>gpt3.5</td>\n",
       "      <td>1934</td>\n",
       "    </tr>\n",
       "  </tbody>\n",
       "</table>\n",
       "<p>10000 rows × 4 columns</p>\n",
       "</div>"
      ],
      "text/plain": [
       "                                                   text  AI version  \\\n",
       "0     Behold, a virgin shall conceive, and bear a so...   0   human   \n",
       "1     John Fetterman, center, the mayor of Braddock,...   0   human   \n",
       "2     Who is Alec Torelli?  Alec Torelli has a uniqu...   0   human   \n",
       "3     The year is 2084. If you somehow survived the ...   0   human   \n",
       "4     AUSTIN, United States — \"Rejections.\" That's w...   0   human   \n",
       "...                                                 ...  ..     ...   \n",
       "9995  Opening shot of a computer screen with code ru...   1  gpt3.5   \n",
       "9996  Introduction:  Machine learning is a subset of...   1  gpt3.5   \n",
       "9997  Title: The Beauty of Mathematics  Opening shot...   1  gpt3.5   \n",
       "9998  Introduction:  Machine learning is a field of ...   1  gpt3.5   \n",
       "9999  [Opening shot of a computer screen showing a g...   1  gpt3.5   \n",
       "\n",
       "      text_length  \n",
       "0            3807  \n",
       "1            4486  \n",
       "2             543  \n",
       "3            1136  \n",
       "4            4788  \n",
       "...           ...  \n",
       "9995         1884  \n",
       "9996         1171  \n",
       "9997         1834  \n",
       "9998         1131  \n",
       "9999         1934  \n",
       "\n",
       "[10000 rows x 4 columns]"
      ]
     },
     "metadata": {},
     "output_type": "display_data"
    },
    {
     "data": {
      "text/html": [
       "<div>\n",
       "<style scoped>\n",
       "    .dataframe tbody tr th:only-of-type {\n",
       "        vertical-align: middle;\n",
       "    }\n",
       "\n",
       "    .dataframe tbody tr th {\n",
       "        vertical-align: top;\n",
       "    }\n",
       "\n",
       "    .dataframe thead th {\n",
       "        text-align: right;\n",
       "    }\n",
       "</style>\n",
       "<table border=\"1\" class=\"dataframe\">\n",
       "  <thead>\n",
       "    <tr style=\"text-align: right;\">\n",
       "      <th></th>\n",
       "      <th>text</th>\n",
       "      <th>AI</th>\n",
       "      <th>version</th>\n",
       "      <th>text_length</th>\n",
       "    </tr>\n",
       "  </thead>\n",
       "  <tbody>\n",
       "    <tr>\n",
       "      <th>0</th>\n",
       "      <td>Researchers over at Check Point Security have ...</td>\n",
       "      <td>0</td>\n",
       "      <td>human</td>\n",
       "      <td>2540</td>\n",
       "    </tr>\n",
       "    <tr>\n",
       "      <th>1</th>\n",
       "      <td>Glass et al. (1989) reported a 16-year-old boy...</td>\n",
       "      <td>0</td>\n",
       "      <td>human</td>\n",
       "      <td>4196</td>\n",
       "    </tr>\n",
       "    <tr>\n",
       "      <th>2</th>\n",
       "      <td>(You may have been directed here from www.ke0o...</td>\n",
       "      <td>0</td>\n",
       "      <td>human</td>\n",
       "      <td>1111</td>\n",
       "    </tr>\n",
       "    <tr>\n",
       "      <th>3</th>\n",
       "      <td>This tournament is a 1v1 Joust where everyone ...</td>\n",
       "      <td>0</td>\n",
       "      <td>human</td>\n",
       "      <td>1816</td>\n",
       "    </tr>\n",
       "    <tr>\n",
       "      <th>4</th>\n",
       "      <td>Grand Prize - $100,000  The M-Prize Winner is ...</td>\n",
       "      <td>0</td>\n",
       "      <td>human</td>\n",
       "      <td>309</td>\n",
       "    </tr>\n",
       "    <tr>\n",
       "      <th>...</th>\n",
       "      <td>...</td>\n",
       "      <td>...</td>\n",
       "      <td>...</td>\n",
       "      <td>...</td>\n",
       "    </tr>\n",
       "    <tr>\n",
       "      <th>9995</th>\n",
       "      <td>Generative AI: The Future of Artificial Intell...</td>\n",
       "      <td>1</td>\n",
       "      <td>gpt3.5</td>\n",
       "      <td>2283</td>\n",
       "    </tr>\n",
       "    <tr>\n",
       "      <th>9996</th>\n",
       "      <td>Title: Local High School Takes Home Championsh...</td>\n",
       "      <td>1</td>\n",
       "      <td>gpt3.5</td>\n",
       "      <td>2108</td>\n",
       "    </tr>\n",
       "    <tr>\n",
       "      <th>9997</th>\n",
       "      <td>Introduction:  Politics is an arena that is fi...</td>\n",
       "      <td>1</td>\n",
       "      <td>gpt3.5</td>\n",
       "      <td>2165</td>\n",
       "    </tr>\n",
       "    <tr>\n",
       "      <th>9998</th>\n",
       "      <td>Innovative Education System in Finland  Finlan...</td>\n",
       "      <td>1</td>\n",
       "      <td>gpt3.5</td>\n",
       "      <td>2367</td>\n",
       "    </tr>\n",
       "    <tr>\n",
       "      <th>9999</th>\n",
       "      <td>Science is a field of study that deals with th...</td>\n",
       "      <td>1</td>\n",
       "      <td>gpt3.5</td>\n",
       "      <td>2251</td>\n",
       "    </tr>\n",
       "  </tbody>\n",
       "</table>\n",
       "<p>10000 rows × 4 columns</p>\n",
       "</div>"
      ],
      "text/plain": [
       "                                                   text  AI version  \\\n",
       "0     Researchers over at Check Point Security have ...   0   human   \n",
       "1     Glass et al. (1989) reported a 16-year-old boy...   0   human   \n",
       "2     (You may have been directed here from www.ke0o...   0   human   \n",
       "3     This tournament is a 1v1 Joust where everyone ...   0   human   \n",
       "4     Grand Prize - $100,000  The M-Prize Winner is ...   0   human   \n",
       "...                                                 ...  ..     ...   \n",
       "9995  Generative AI: The Future of Artificial Intell...   1  gpt3.5   \n",
       "9996  Title: Local High School Takes Home Championsh...   1  gpt3.5   \n",
       "9997  Introduction:  Politics is an arena that is fi...   1  gpt3.5   \n",
       "9998  Innovative Education System in Finland  Finlan...   1  gpt3.5   \n",
       "9999  Science is a field of study that deals with th...   1  gpt3.5   \n",
       "\n",
       "      text_length  \n",
       "0            2540  \n",
       "1            4196  \n",
       "2            1111  \n",
       "3            1816  \n",
       "4             309  \n",
       "...           ...  \n",
       "9995         2283  \n",
       "9996         2108  \n",
       "9997         2165  \n",
       "9998         2367  \n",
       "9999         2251  \n",
       "\n",
       "[10000 rows x 4 columns]"
      ]
     },
     "metadata": {},
     "output_type": "display_data"
    }
   ],
   "source": [
    "display(train_sample)\n",
    "display(val)\n",
    "display(test)"
   ]
  },
  {
   "cell_type": "code",
   "execution_count": 473,
   "metadata": {},
   "outputs": [
    {
     "data": {
      "text/plain": [
       "version\n",
       "human     5000\n",
       "gpt3.5    2500\n",
       "gpt2      1250\n",
       "gpt3      1250\n",
       "Name: count, dtype: int64"
      ]
     },
     "execution_count": 473,
     "metadata": {},
     "output_type": "execute_result"
    }
   ],
   "source": [
    "val.version.value_counts()"
   ]
  },
  {
   "cell_type": "code",
   "execution_count": 407,
   "metadata": {},
   "outputs": [],
   "source": [
    "# train_small, train_medium, train_long = divide_frame(train)\n",
    "# for df in [train_small, train_medium, train_long]:\n",
    "#     print(df.shape[0])\n",
    "\n",
    "# train_sample = pd.concat([train_small.sample(20_000, random_state=1), \n",
    "#                           train_medium.sample(30_000, random_state=1),\n",
    "#                           train_long.sample(20_000, random_state=1)]).reset_index(drop=True)"
   ]
  },
  {
   "cell_type": "code",
   "execution_count": 474,
   "metadata": {},
   "outputs": [],
   "source": [
    "ds_train = Dataset.from_pandas(train_sample, split=\"train\")\n",
    "ds_val = Dataset.from_pandas(val, split=\"valid\")\n",
    "ds_test = Dataset.from_pandas(test, split=\"test\")"
   ]
  },
  {
   "cell_type": "code",
   "execution_count": 475,
   "metadata": {},
   "outputs": [],
   "source": [
    "# pack datasets into a dictionary to tokenize them in parallel\n",
    "ds_dict = DatasetDict({\"train\": ds_train, \"valid\": ds_val, \"test\": ds_test})"
   ]
  },
  {
   "cell_type": "code",
   "execution_count": 476,
   "metadata": {},
   "outputs": [
    {
     "data": {
      "text/plain": [
       "DatasetDict({\n",
       "    train: Dataset({\n",
       "        features: ['text', 'AI', 'version', 'text_length'],\n",
       "        num_rows: 70000\n",
       "    })\n",
       "    valid: Dataset({\n",
       "        features: ['text', 'AI', 'version', 'text_length'],\n",
       "        num_rows: 10000\n",
       "    })\n",
       "    test: Dataset({\n",
       "        features: ['text', 'AI', 'version', 'text_length'],\n",
       "        num_rows: 10000\n",
       "    })\n",
       "})"
      ]
     },
     "execution_count": 476,
     "metadata": {},
     "output_type": "execute_result"
    }
   ],
   "source": [
    "ds_dict"
   ]
  },
  {
   "cell_type": "code",
   "execution_count": 477,
   "metadata": {},
   "outputs": [
    {
     "name": "stderr",
     "output_type": "stream",
     "text": [
      "                                                                                                 \r"
     ]
    }
   ],
   "source": [
    "ds_dict.save_to_disk(f\"preprocessed_data_{train_size}\")"
   ]
  },
  {
   "cell_type": "code",
   "execution_count": 7,
   "metadata": {},
   "outputs": [
    {
     "data": {
      "text/plain": [
       "DatasetDict({\n",
       "    train: Dataset({\n",
       "        features: ['text', 'AI', 'version', 'text_length'],\n",
       "        num_rows: 70000\n",
       "    })\n",
       "    valid: Dataset({\n",
       "        features: ['text', 'AI', 'version', 'text_length'],\n",
       "        num_rows: 10000\n",
       "    })\n",
       "    test: Dataset({\n",
       "        features: ['text', 'AI', 'version', 'text_length'],\n",
       "        num_rows: 10000\n",
       "    })\n",
       "})"
      ]
     },
     "execution_count": 7,
     "metadata": {},
     "output_type": "execute_result"
    }
   ],
   "source": [
    "ds_dict = load_from_disk(f\"preprocessed_data_{train_size}\")\n",
    "ds_dict"
   ]
  },
  {
   "attachments": {},
   "cell_type": "markdown",
   "metadata": {},
   "source": [
    "## Create Tokenizer suitable for the model"
   ]
  },
  {
   "cell_type": "code",
   "execution_count": 8,
   "metadata": {},
   "outputs": [],
   "source": [
    "def model_checkpoint(name: str=\"distilbert\", \n",
    "                     large: bool=True,\n",
    "                     uncased: bool=True) -> str:\n",
    "    model_ckpt = f'{name}-large' if large else f'{name}-base'\n",
    "    return f'{model_ckpt}-uncased' if uncased else model_ckpt\n",
    "\n",
    "model_ckpt = model_checkpoint(name=\"roberta\",large=True, uncased=False)\n",
    "# define the tokenizer the model was trained with\n",
    "tokenizer = AutoTokenizer.from_pretrained(model_ckpt)\n",
    "#model_ckpt"
   ]
  },
  {
   "cell_type": "code",
   "execution_count": 9,
   "metadata": {},
   "outputs": [
    {
     "name": "stderr",
     "output_type": "stream",
     "text": [
      "2023-06-25 20:07:15.670406: I metal_plugin/src/device/metal_device.cc:1154] Metal device set to: Apple M1 Pro\n",
      "2023-06-25 20:07:15.671630: I metal_plugin/src/device/metal_device.cc:296] systemMemory: 16.00 GB\n",
      "2023-06-25 20:07:15.671657: I metal_plugin/src/device/metal_device.cc:313] maxCacheSize: 5.33 GB\n",
      "2023-06-25 20:07:15.672105: I tensorflow/core/common_runtime/pluggable_device/pluggable_device_factory.cc:303] Could not identify NUMA node of platform GPU ID 0, defaulting to 0. Your kernel may not have been built with NUMA support.\n",
      "2023-06-25 20:07:15.673813: I tensorflow/core/common_runtime/pluggable_device/pluggable_device_factory.cc:269] Created TensorFlow device (/job:localhost/replica:0/task:0/device:GPU:0 with 0 MB memory) -> physical PluggableDevice (device: 0, name: METAL, pci bus id: <undefined>)\n"
     ]
    },
    {
     "data": {
      "text/plain": [
       "{'input_ids': <tf.Tensor: shape=(1, 7), dtype=int32, numpy=array([[   0, 9226,   16,   10, 1296,  328,    2]], dtype=int32)>, 'attention_mask': <tf.Tensor: shape=(1, 7), dtype=int32, numpy=array([[1, 1, 1, 1, 1, 1, 1]], dtype=int32)>}"
      ]
     },
     "execution_count": 9,
     "metadata": {},
     "output_type": "execute_result"
    }
   ],
   "source": [
    "tokenizer(\"this is a test!\", return_tensors=\"tf\")"
   ]
  },
  {
   "cell_type": "code",
   "execution_count": 10,
   "metadata": {},
   "outputs": [
    {
     "data": {
      "text/plain": [
       "['input_ids', 'attention_mask']"
      ]
     },
     "execution_count": 10,
     "metadata": {},
     "output_type": "execute_result"
    }
   ],
   "source": [
    "tokenizer.model_input_names"
   ]
  },
  {
   "cell_type": "code",
   "execution_count": 482,
   "metadata": {},
   "outputs": [],
   "source": [
    "# define a tokenize function that tokenizes the text in batches\n",
    "def tokenize(batch):\n",
    "    return tokenizer(batch[\"text\"], padding=True, truncation=True)"
   ]
  },
  {
   "cell_type": "code",
   "execution_count": 483,
   "metadata": {},
   "outputs": [
    {
     "name": "stderr",
     "output_type": "stream",
     "text": [
      "                                                                   \r"
     ]
    }
   ],
   "source": [
    "ds_encoded = ds_dict.map(tokenize, batched=True, batch_size=10_000)"
   ]
  },
  {
   "cell_type": "code",
   "execution_count": 484,
   "metadata": {},
   "outputs": [
    {
     "name": "stderr",
     "output_type": "stream",
     "text": [
      "                                                                                                 \r"
     ]
    }
   ],
   "source": [
    "ds_encoded.save_to_disk(f\"encoded_data_{train_size}\")"
   ]
  },
  {
   "cell_type": "code",
   "execution_count": 11,
   "metadata": {},
   "outputs": [],
   "source": [
    "ds_encoded = load_from_disk(f\"encoded_data_{train_size}\")"
   ]
  },
  {
   "attachments": {},
   "cell_type": "markdown",
   "metadata": {},
   "source": [
    "## Option 1: Use pre-trained model as feature extractor"
   ]
  },
  {
   "attachments": {},
   "cell_type": "markdown",
   "metadata": {},
   "source": [
    "### Extracting last hidden layer of a BERT model"
   ]
  },
  {
   "attachments": {},
   "cell_type": "markdown",
   "metadata": {},
   "source": [
    "For this approach the model-weights of our RoBERTA model are frozen and provide features for a classifier "
   ]
  },
  {
   "cell_type": "code",
   "execution_count": 12,
   "metadata": {},
   "outputs": [],
   "source": [
    "model = TFAutoModel.from_pretrained(model_ckpt, from_pt=True) # load the model from the checkpoint"
   ]
  },
  {
   "cell_type": "code",
   "execution_count": 13,
   "metadata": {},
   "outputs": [
    {
     "data": {
      "text/plain": [
       "TFBaseModelOutputWithPoolingAndCrossAttentions(last_hidden_state=<tf.Tensor: shape=(1, 6, 1024), dtype=float32, numpy=\n",
       "array([[[ 0.04603524, -0.00462841,  0.01070017, ..., -0.05166832,\n",
       "          0.10207281,  0.06168523],\n",
       "        [ 0.16665468, -0.10331246, -0.35997272, ...,  0.06356603,\n",
       "         -0.1478664 ,  0.08259304],\n",
       "        [ 0.36435974, -0.06037583, -0.32145458, ...,  0.09165369,\n",
       "          0.07294382,  0.12116899],\n",
       "        [-0.08846132, -0.09831417,  0.01492194, ..., -0.04664286,\n",
       "         -0.18895282,  0.1724447 ],\n",
       "        [ 0.07978453, -0.15301354, -0.12229724, ..., -0.16046473,\n",
       "          0.11752793,  0.00620504],\n",
       "        [ 0.06696582, -0.0087914 ,  0.03385552, ..., -0.0685569 ,\n",
       "          0.08994152,  0.01962573]]], dtype=float32)>, pooler_output=<tf.Tensor: shape=(1, 1024), dtype=float32, numpy=\n",
       "array([[ 0.15439375,  0.71824986,  0.45034176, ..., -0.00599452,\n",
       "         0.40904945, -0.3544111 ]], dtype=float32)>, past_key_values=None, hidden_states=None, attentions=None, cross_attentions=None)"
      ]
     },
     "execution_count": 13,
     "metadata": {},
     "output_type": "execute_result"
    }
   ],
   "source": [
    "text = \"this is a test\"\n",
    "inputs = tokenizer(text, return_tensors=\"tf\")\n",
    "outputs = model(**inputs)\n",
    "outputs"
   ]
  },
  {
   "cell_type": "code",
   "execution_count": 14,
   "metadata": {},
   "outputs": [
    {
     "data": {
      "text/plain": [
       "TensorShape([1, 6, 1024])"
      ]
     },
     "execution_count": 14,
     "metadata": {},
     "output_type": "execute_result"
    }
   ],
   "source": [
    "outputs.last_hidden_state.shape #output [batch_size, n_tokens, hidden_dim]"
   ]
  },
  {
   "cell_type": "code",
   "execution_count": 15,
   "metadata": {},
   "outputs": [
    {
     "data": {
      "text/plain": [
       "TensorShape([1, 1024])"
      ]
     },
     "execution_count": 15,
     "metadata": {},
     "output_type": "execute_result"
    }
   ],
   "source": [
    "# for classification it is common practice use hidden state associated to start \n",
    "# of sequence token\n",
    "outputs.last_hidden_state[:, 0].shape "
   ]
  },
  {
   "cell_type": "code",
   "execution_count": 16,
   "metadata": {},
   "outputs": [],
   "source": [
    "# extract last hidden state for whole dataset\n",
    "def extract_hidden_states(batch):\n",
    "    inputs = {k: v for k,v in batch.items() if k in tokenizer.model_input_names}\n",
    "    last_hidden_state = model(**inputs).last_hidden_state\n",
    "    return {\"hidden_state\": last_hidden_state[:, 0].numpy()}"
   ]
  },
  {
   "cell_type": "code",
   "execution_count": 17,
   "metadata": {},
   "outputs": [],
   "source": [
    "ds_encoded.set_format(\"tensorflow\", columns=[\"input_ids\", \"attention_mask\", \"AI\"])"
   ]
  },
  {
   "cell_type": "code",
   "execution_count": 18,
   "metadata": {},
   "outputs": [
    {
     "data": {
      "text/plain": [
       "{'hidden_state': array([[-0.3427664 , -0.28302005, -0.21823733, ...,  0.21029028,\n",
       "         -0.7165592 ,  0.48414364],\n",
       "        [-0.3774553 , -0.19625072, -0.10798267, ...,  0.48125118,\n",
       "         -0.23683989,  0.46917036]], dtype=float32)}"
      ]
     },
     "execution_count": 18,
     "metadata": {},
     "output_type": "execute_result"
    }
   ],
   "source": [
    "extract_hidden_states(ds_encoded[\"train\"][:2])"
   ]
  },
  {
   "cell_type": "code",
   "execution_count": 492,
   "metadata": {},
   "outputs": [
    {
     "name": "stderr",
     "output_type": "stream",
     "text": [
      "/Users/michaelfiedler/.pyenv/versions/3.10.6/envs/AI_written_text_identifier/lib/python3.10/site-packages/transformers/generation/tf_utils.py:465: UserWarning: `seed_generator` is deprecated and will be removed in a future version.\n",
      "  warnings.warn(\"`seed_generator` is deprecated and will be removed in a future version.\", UserWarning)\n",
      "                                                                     \r"
     ]
    }
   ],
   "source": [
    "ds_hidden = ds_encoded.map(extract_hidden_states, batched=True, batch_size=50)"
   ]
  },
  {
   "cell_type": "code",
   "execution_count": 493,
   "metadata": {},
   "outputs": [
    {
     "data": {
      "text/plain": [
       "DatasetDict({\n",
       "    train: Dataset({\n",
       "        features: ['text', 'AI', 'version', 'text_length', 'input_ids', 'attention_mask', 'hidden_state'],\n",
       "        num_rows: 70000\n",
       "    })\n",
       "    valid: Dataset({\n",
       "        features: ['text', 'AI', 'version', 'text_length', 'input_ids', 'attention_mask', 'hidden_state'],\n",
       "        num_rows: 10000\n",
       "    })\n",
       "    test: Dataset({\n",
       "        features: ['text', 'AI', 'version', 'text_length', 'input_ids', 'attention_mask', 'hidden_state'],\n",
       "        num_rows: 10000\n",
       "    })\n",
       "})"
      ]
     },
     "execution_count": 493,
     "metadata": {},
     "output_type": "execute_result"
    }
   ],
   "source": [
    "ds_hidden"
   ]
  },
  {
   "cell_type": "code",
   "execution_count": 494,
   "metadata": {},
   "outputs": [
    {
     "name": "stderr",
     "output_type": "stream",
     "text": [
      "                                                                                                 \r"
     ]
    }
   ],
   "source": [
    "ds_hidden.save_to_disk(f\"hidden_states_{model_ckpt}_{train_size}\")"
   ]
  },
  {
   "cell_type": "code",
   "execution_count": 19,
   "metadata": {},
   "outputs": [],
   "source": [
    "ds_hidden = load_from_disk(f\"hidden_states_{model_ckpt}_{train_size}\")"
   ]
  },
  {
   "cell_type": "code",
   "execution_count": 20,
   "metadata": {},
   "outputs": [
    {
     "data": {
      "text/plain": [
       "DatasetDict({\n",
       "    train: Dataset({\n",
       "        features: ['text', 'AI', 'version', 'text_length', 'input_ids', 'attention_mask', 'hidden_state'],\n",
       "        num_rows: 70000\n",
       "    })\n",
       "    valid: Dataset({\n",
       "        features: ['text', 'AI', 'version', 'text_length', 'input_ids', 'attention_mask', 'hidden_state'],\n",
       "        num_rows: 10000\n",
       "    })\n",
       "    test: Dataset({\n",
       "        features: ['text', 'AI', 'version', 'text_length', 'input_ids', 'attention_mask', 'hidden_state'],\n",
       "        num_rows: 10000\n",
       "    })\n",
       "})"
      ]
     },
     "execution_count": 20,
     "metadata": {},
     "output_type": "execute_result"
    }
   ],
   "source": [
    "ds_hidden"
   ]
  },
  {
   "attachments": {},
   "cell_type": "markdown",
   "metadata": {},
   "source": [
    "-----"
   ]
  },
  {
   "attachments": {},
   "cell_type": "markdown",
   "metadata": {},
   "source": [
    "### Preparing data to train model"
   ]
  },
  {
   "attachments": {},
   "cell_type": "markdown",
   "metadata": {},
   "source": [
    "We are now using these hidden states to train a relatively simple classifier to predict if text is AI written or not."
   ]
  },
  {
   "cell_type": "code",
   "execution_count": 21,
   "metadata": {},
   "outputs": [],
   "source": [
    "X_train = np.array(ds_hidden[\"train\"][\"hidden_state\"])\n",
    "X_val = np.array(ds_hidden[\"valid\"][\"hidden_state\"])\n",
    "X_test = np.array(ds_hidden[\"test\"][\"hidden_state\"])\n",
    "\n",
    "y_train = np.array(ds_hidden[\"train\"][\"AI\"])\n",
    "y_val = np.array(ds_hidden[\"valid\"][\"AI\"])\n",
    "y_test = np.array(ds_hidden[\"test\"][\"AI\"])"
   ]
  },
  {
   "cell_type": "code",
   "execution_count": 22,
   "metadata": {},
   "outputs": [
    {
     "data": {
      "text/plain": [
       "array([[-0.3427664 , -0.28302005, -0.21823733, ...,  0.21029028,\n",
       "        -0.7165592 ,  0.48414364],\n",
       "       [-0.3774553 , -0.19625072, -0.10798267, ...,  0.48125118,\n",
       "        -0.23683989,  0.46917036],\n",
       "       [-0.39391053,  0.17262237,  0.03629463, ...,  0.2960962 ,\n",
       "        -0.76028746,  0.70063794],\n",
       "       ...,\n",
       "       [-0.23375955, -0.30192906, -0.0972286 , ...,  0.21891847,\n",
       "        -0.0503808 ,  0.3804766 ],\n",
       "       [-0.27781478, -0.257085  , -0.10656475, ...,  0.28357393,\n",
       "        -0.07758123,  0.43826705],\n",
       "       [-0.48439917, -0.34412006, -0.11208704, ...,  0.58168375,\n",
       "        -0.5461089 ,  0.54337895]], dtype=float32)"
      ]
     },
     "execution_count": 22,
     "metadata": {},
     "output_type": "execute_result"
    }
   ],
   "source": [
    "X_train"
   ]
  },
  {
   "cell_type": "code",
   "execution_count": 23,
   "metadata": {},
   "outputs": [
    {
     "data": {
      "text/plain": [
       "((70000, 1024), (70000,))"
      ]
     },
     "execution_count": 23,
     "metadata": {},
     "output_type": "execute_result"
    }
   ],
   "source": [
    "X_train.shape, y_train.shape"
   ]
  },
  {
   "cell_type": "code",
   "execution_count": 24,
   "metadata": {},
   "outputs": [],
   "source": [
    "X_search = np.vstack((X_train, X_val))\n",
    "y_search = np.hstack((y_train, y_val))"
   ]
  },
  {
   "cell_type": "code",
   "execution_count": 25,
   "metadata": {},
   "outputs": [],
   "source": [
    "X_search.shape, y_search.shape\n",
    "split = PredefinedSplit([-1]*X_train.shape[0]+[0]*X_val.shape[0])"
   ]
  },
  {
   "cell_type": "code",
   "execution_count": 26,
   "metadata": {},
   "outputs": [],
   "source": [
    "scores_model_roberta = {}"
   ]
  },
  {
   "attachments": {},
   "cell_type": "markdown",
   "metadata": {},
   "source": [
    "### Logistic Regression"
   ]
  },
  {
   "cell_type": "code",
   "execution_count": 509,
   "metadata": {},
   "outputs": [],
   "source": [
    "lr_clf = LogisticRegression(max_iter=5000)\n",
    "\n",
    "params = {\"C\":[2**k for k in range(0, 7)]}\n",
    "\n",
    "search = GridSearchCV(lr_clf,\n",
    "                      param_grid=params,\n",
    "                      n_jobs=-1,\n",
    "                      cv = split,\n",
    "                      scoring=\"accuracy\")"
   ]
  },
  {
   "cell_type": "code",
   "execution_count": 510,
   "metadata": {},
   "outputs": [
    {
     "name": "stdout",
     "output_type": "stream",
     "text": [
      "huggingface/tokenizers: The current process just got forked, after parallelism has already been used. Disabling parallelism to avoid deadlocks...\n",
      "To disable this warning, you can either:\n",
      "\t- Avoid using `tokenizers` before the fork if possible\n",
      "\t- Explicitly set the environment variable TOKENIZERS_PARALLELISM=(true | false)\n",
      "huggingface/tokenizers: The current process just got forked, after parallelism has already been used. Disabling parallelism to avoid deadlocks...\n",
      "To disable this warning, you can either:\n",
      "\t- Avoid using `tokenizers` before the fork if possible\n",
      "\t- Explicitly set the environment variable TOKENIZERS_PARALLELISM=(true | false)\n",
      "huggingface/tokenizers: The current process just got forked, after parallelism has already been used. Disabling parallelism to avoid deadlocks...\n",
      "To disable this warning, you can either:\n",
      "\t- Avoid using `tokenizers` before the fork if possible\n",
      "\t- Explicitly set the environment variable TOKENIZERS_PARALLELISM=(true | false)\n",
      "huggingface/tokenizers: The current process just got forked, after parallelism has already been used. Disabling parallelism to avoid deadlocks...\n",
      "To disable this warning, you can either:\n",
      "\t- Avoid using `tokenizers` before the fork if possible\n",
      "\t- Explicitly set the environment variable TOKENIZERS_PARALLELISM=(true | false)\n"
     ]
    },
    {
     "data": {
      "text/html": [
       "<style>#sk-container-id-13 {color: black;background-color: white;}#sk-container-id-13 pre{padding: 0;}#sk-container-id-13 div.sk-toggleable {background-color: white;}#sk-container-id-13 label.sk-toggleable__label {cursor: pointer;display: block;width: 100%;margin-bottom: 0;padding: 0.3em;box-sizing: border-box;text-align: center;}#sk-container-id-13 label.sk-toggleable__label-arrow:before {content: \"▸\";float: left;margin-right: 0.25em;color: #696969;}#sk-container-id-13 label.sk-toggleable__label-arrow:hover:before {color: black;}#sk-container-id-13 div.sk-estimator:hover label.sk-toggleable__label-arrow:before {color: black;}#sk-container-id-13 div.sk-toggleable__content {max-height: 0;max-width: 0;overflow: hidden;text-align: left;background-color: #f0f8ff;}#sk-container-id-13 div.sk-toggleable__content pre {margin: 0.2em;color: black;border-radius: 0.25em;background-color: #f0f8ff;}#sk-container-id-13 input.sk-toggleable__control:checked~div.sk-toggleable__content {max-height: 200px;max-width: 100%;overflow: auto;}#sk-container-id-13 input.sk-toggleable__control:checked~label.sk-toggleable__label-arrow:before {content: \"▾\";}#sk-container-id-13 div.sk-estimator input.sk-toggleable__control:checked~label.sk-toggleable__label {background-color: #d4ebff;}#sk-container-id-13 div.sk-label input.sk-toggleable__control:checked~label.sk-toggleable__label {background-color: #d4ebff;}#sk-container-id-13 input.sk-hidden--visually {border: 0;clip: rect(1px 1px 1px 1px);clip: rect(1px, 1px, 1px, 1px);height: 1px;margin: -1px;overflow: hidden;padding: 0;position: absolute;width: 1px;}#sk-container-id-13 div.sk-estimator {font-family: monospace;background-color: #f0f8ff;border: 1px dotted black;border-radius: 0.25em;box-sizing: border-box;margin-bottom: 0.5em;}#sk-container-id-13 div.sk-estimator:hover {background-color: #d4ebff;}#sk-container-id-13 div.sk-parallel-item::after {content: \"\";width: 100%;border-bottom: 1px solid gray;flex-grow: 1;}#sk-container-id-13 div.sk-label:hover label.sk-toggleable__label {background-color: #d4ebff;}#sk-container-id-13 div.sk-serial::before {content: \"\";position: absolute;border-left: 1px solid gray;box-sizing: border-box;top: 0;bottom: 0;left: 50%;z-index: 0;}#sk-container-id-13 div.sk-serial {display: flex;flex-direction: column;align-items: center;background-color: white;padding-right: 0.2em;padding-left: 0.2em;position: relative;}#sk-container-id-13 div.sk-item {position: relative;z-index: 1;}#sk-container-id-13 div.sk-parallel {display: flex;align-items: stretch;justify-content: center;background-color: white;position: relative;}#sk-container-id-13 div.sk-item::before, #sk-container-id-13 div.sk-parallel-item::before {content: \"\";position: absolute;border-left: 1px solid gray;box-sizing: border-box;top: 0;bottom: 0;left: 50%;z-index: -1;}#sk-container-id-13 div.sk-parallel-item {display: flex;flex-direction: column;z-index: 1;position: relative;background-color: white;}#sk-container-id-13 div.sk-parallel-item:first-child::after {align-self: flex-end;width: 50%;}#sk-container-id-13 div.sk-parallel-item:last-child::after {align-self: flex-start;width: 50%;}#sk-container-id-13 div.sk-parallel-item:only-child::after {width: 0;}#sk-container-id-13 div.sk-dashed-wrapped {border: 1px dashed gray;margin: 0 0.4em 0.5em 0.4em;box-sizing: border-box;padding-bottom: 0.4em;background-color: white;}#sk-container-id-13 div.sk-label label {font-family: monospace;font-weight: bold;display: inline-block;line-height: 1.2em;}#sk-container-id-13 div.sk-label-container {text-align: center;}#sk-container-id-13 div.sk-container {/* jupyter's `normalize.less` sets `[hidden] { display: none; }` but bootstrap.min.css set `[hidden] { display: none !important; }` so we also need the `!important` here to be able to override the default hidden behavior on the sphinx rendered scikit-learn.org. See: https://github.com/scikit-learn/scikit-learn/issues/21755 */display: inline-block !important;position: relative;}#sk-container-id-13 div.sk-text-repr-fallback {display: none;}</style><div id=\"sk-container-id-13\" class=\"sk-top-container\"><div class=\"sk-text-repr-fallback\"><pre>GridSearchCV(cv=PredefinedSplit(test_fold=array([-1, -1, ...,  0,  0])),\n",
       "             estimator=LogisticRegression(max_iter=5000), n_jobs=-1,\n",
       "             param_grid={&#x27;C&#x27;: [1, 2, 4, 8, 16, 32, 64]}, scoring=&#x27;accuracy&#x27;)</pre><b>In a Jupyter environment, please rerun this cell to show the HTML representation or trust the notebook. <br />On GitHub, the HTML representation is unable to render, please try loading this page with nbviewer.org.</b></div><div class=\"sk-container\" hidden><div class=\"sk-item sk-dashed-wrapped\"><div class=\"sk-label-container\"><div class=\"sk-label sk-toggleable\"><input class=\"sk-toggleable__control sk-hidden--visually\" id=\"sk-estimator-id-23\" type=\"checkbox\" ><label for=\"sk-estimator-id-23\" class=\"sk-toggleable__label sk-toggleable__label-arrow\">GridSearchCV</label><div class=\"sk-toggleable__content\"><pre>GridSearchCV(cv=PredefinedSplit(test_fold=array([-1, -1, ...,  0,  0])),\n",
       "             estimator=LogisticRegression(max_iter=5000), n_jobs=-1,\n",
       "             param_grid={&#x27;C&#x27;: [1, 2, 4, 8, 16, 32, 64]}, scoring=&#x27;accuracy&#x27;)</pre></div></div></div><div class=\"sk-parallel\"><div class=\"sk-parallel-item\"><div class=\"sk-item\"><div class=\"sk-label-container\"><div class=\"sk-label sk-toggleable\"><input class=\"sk-toggleable__control sk-hidden--visually\" id=\"sk-estimator-id-24\" type=\"checkbox\" ><label for=\"sk-estimator-id-24\" class=\"sk-toggleable__label sk-toggleable__label-arrow\">estimator: LogisticRegression</label><div class=\"sk-toggleable__content\"><pre>LogisticRegression(max_iter=5000)</pre></div></div></div><div class=\"sk-serial\"><div class=\"sk-item\"><div class=\"sk-estimator sk-toggleable\"><input class=\"sk-toggleable__control sk-hidden--visually\" id=\"sk-estimator-id-25\" type=\"checkbox\" ><label for=\"sk-estimator-id-25\" class=\"sk-toggleable__label sk-toggleable__label-arrow\">LogisticRegression</label><div class=\"sk-toggleable__content\"><pre>LogisticRegression(max_iter=5000)</pre></div></div></div></div></div></div></div></div></div></div>"
      ],
      "text/plain": [
       "GridSearchCV(cv=PredefinedSplit(test_fold=array([-1, -1, ...,  0,  0])),\n",
       "             estimator=LogisticRegression(max_iter=5000), n_jobs=-1,\n",
       "             param_grid={'C': [1, 2, 4, 8, 16, 32, 64]}, scoring='accuracy')"
      ]
     },
     "execution_count": 510,
     "metadata": {},
     "output_type": "execute_result"
    }
   ],
   "source": [
    "search.fit(X_search, y_search)"
   ]
  },
  {
   "cell_type": "code",
   "execution_count": 511,
   "metadata": {},
   "outputs": [
    {
     "data": {
      "text/plain": [
       "0.964"
      ]
     },
     "execution_count": 511,
     "metadata": {},
     "output_type": "execute_result"
    }
   ],
   "source": [
    "search.best_score_"
   ]
  },
  {
   "cell_type": "code",
   "execution_count": 512,
   "metadata": {},
   "outputs": [],
   "source": [
    "lr_clf_best = search.best_estimator_"
   ]
  },
  {
   "cell_type": "code",
   "execution_count": 513,
   "metadata": {},
   "outputs": [
    {
     "data": {
      "text/html": [
       "<style>#sk-container-id-14 {color: black;background-color: white;}#sk-container-id-14 pre{padding: 0;}#sk-container-id-14 div.sk-toggleable {background-color: white;}#sk-container-id-14 label.sk-toggleable__label {cursor: pointer;display: block;width: 100%;margin-bottom: 0;padding: 0.3em;box-sizing: border-box;text-align: center;}#sk-container-id-14 label.sk-toggleable__label-arrow:before {content: \"▸\";float: left;margin-right: 0.25em;color: #696969;}#sk-container-id-14 label.sk-toggleable__label-arrow:hover:before {color: black;}#sk-container-id-14 div.sk-estimator:hover label.sk-toggleable__label-arrow:before {color: black;}#sk-container-id-14 div.sk-toggleable__content {max-height: 0;max-width: 0;overflow: hidden;text-align: left;background-color: #f0f8ff;}#sk-container-id-14 div.sk-toggleable__content pre {margin: 0.2em;color: black;border-radius: 0.25em;background-color: #f0f8ff;}#sk-container-id-14 input.sk-toggleable__control:checked~div.sk-toggleable__content {max-height: 200px;max-width: 100%;overflow: auto;}#sk-container-id-14 input.sk-toggleable__control:checked~label.sk-toggleable__label-arrow:before {content: \"▾\";}#sk-container-id-14 div.sk-estimator input.sk-toggleable__control:checked~label.sk-toggleable__label {background-color: #d4ebff;}#sk-container-id-14 div.sk-label input.sk-toggleable__control:checked~label.sk-toggleable__label {background-color: #d4ebff;}#sk-container-id-14 input.sk-hidden--visually {border: 0;clip: rect(1px 1px 1px 1px);clip: rect(1px, 1px, 1px, 1px);height: 1px;margin: -1px;overflow: hidden;padding: 0;position: absolute;width: 1px;}#sk-container-id-14 div.sk-estimator {font-family: monospace;background-color: #f0f8ff;border: 1px dotted black;border-radius: 0.25em;box-sizing: border-box;margin-bottom: 0.5em;}#sk-container-id-14 div.sk-estimator:hover {background-color: #d4ebff;}#sk-container-id-14 div.sk-parallel-item::after {content: \"\";width: 100%;border-bottom: 1px solid gray;flex-grow: 1;}#sk-container-id-14 div.sk-label:hover label.sk-toggleable__label {background-color: #d4ebff;}#sk-container-id-14 div.sk-serial::before {content: \"\";position: absolute;border-left: 1px solid gray;box-sizing: border-box;top: 0;bottom: 0;left: 50%;z-index: 0;}#sk-container-id-14 div.sk-serial {display: flex;flex-direction: column;align-items: center;background-color: white;padding-right: 0.2em;padding-left: 0.2em;position: relative;}#sk-container-id-14 div.sk-item {position: relative;z-index: 1;}#sk-container-id-14 div.sk-parallel {display: flex;align-items: stretch;justify-content: center;background-color: white;position: relative;}#sk-container-id-14 div.sk-item::before, #sk-container-id-14 div.sk-parallel-item::before {content: \"\";position: absolute;border-left: 1px solid gray;box-sizing: border-box;top: 0;bottom: 0;left: 50%;z-index: -1;}#sk-container-id-14 div.sk-parallel-item {display: flex;flex-direction: column;z-index: 1;position: relative;background-color: white;}#sk-container-id-14 div.sk-parallel-item:first-child::after {align-self: flex-end;width: 50%;}#sk-container-id-14 div.sk-parallel-item:last-child::after {align-self: flex-start;width: 50%;}#sk-container-id-14 div.sk-parallel-item:only-child::after {width: 0;}#sk-container-id-14 div.sk-dashed-wrapped {border: 1px dashed gray;margin: 0 0.4em 0.5em 0.4em;box-sizing: border-box;padding-bottom: 0.4em;background-color: white;}#sk-container-id-14 div.sk-label label {font-family: monospace;font-weight: bold;display: inline-block;line-height: 1.2em;}#sk-container-id-14 div.sk-label-container {text-align: center;}#sk-container-id-14 div.sk-container {/* jupyter's `normalize.less` sets `[hidden] { display: none; }` but bootstrap.min.css set `[hidden] { display: none !important; }` so we also need the `!important` here to be able to override the default hidden behavior on the sphinx rendered scikit-learn.org. See: https://github.com/scikit-learn/scikit-learn/issues/21755 */display: inline-block !important;position: relative;}#sk-container-id-14 div.sk-text-repr-fallback {display: none;}</style><div id=\"sk-container-id-14\" class=\"sk-top-container\"><div class=\"sk-text-repr-fallback\"><pre>LogisticRegression(C=32, max_iter=5000)</pre><b>In a Jupyter environment, please rerun this cell to show the HTML representation or trust the notebook. <br />On GitHub, the HTML representation is unable to render, please try loading this page with nbviewer.org.</b></div><div class=\"sk-container\" hidden><div class=\"sk-item\"><div class=\"sk-estimator sk-toggleable\"><input class=\"sk-toggleable__control sk-hidden--visually\" id=\"sk-estimator-id-26\" type=\"checkbox\" checked><label for=\"sk-estimator-id-26\" class=\"sk-toggleable__label sk-toggleable__label-arrow\">LogisticRegression</label><div class=\"sk-toggleable__content\"><pre>LogisticRegression(C=32, max_iter=5000)</pre></div></div></div></div></div>"
      ],
      "text/plain": [
       "LogisticRegression(C=32, max_iter=5000)"
      ]
     },
     "execution_count": 513,
     "metadata": {},
     "output_type": "execute_result"
    }
   ],
   "source": [
    "lr_clf_best.fit(X_train, y_train)"
   ]
  },
  {
   "cell_type": "code",
   "execution_count": 515,
   "metadata": {},
   "outputs": [
    {
     "data": {
      "text/plain": [
       "['trained_models_70000/lr_clf_best_roberta-large.joblib']"
      ]
     },
     "execution_count": 515,
     "metadata": {},
     "output_type": "execute_result"
    }
   ],
   "source": [
    "dump(lr_clf_best, f\"trained_models_{train_size}/lr_clf_best_{model_ckpt}.joblib\")"
   ]
  },
  {
   "cell_type": "code",
   "execution_count": 27,
   "metadata": {},
   "outputs": [],
   "source": [
    "lr_clf_best = load(f\"trained_models_{train_size}/lr_clf_best_{model_ckpt}.joblib\")"
   ]
  },
  {
   "cell_type": "code",
   "execution_count": 28,
   "metadata": {},
   "outputs": [
    {
     "data": {
      "text/plain": [
       "0.9624"
      ]
     },
     "execution_count": 28,
     "metadata": {},
     "output_type": "execute_result"
    }
   ],
   "source": [
    "scores_model_roberta[\"logistic_regression\"] = lr_clf_best.score(X_test, y_test)\n",
    "scores_model_roberta[\"logistic_regression\"]"
   ]
  },
  {
   "attachments": {},
   "cell_type": "markdown",
   "metadata": {},
   "source": [
    "### SVM Classifier"
   ]
  },
  {
   "cell_type": "code",
   "execution_count": 38,
   "metadata": {},
   "outputs": [],
   "source": [
    "#from sklearn.svm import SVC"
   ]
  },
  {
   "cell_type": "code",
   "execution_count": 39,
   "metadata": {},
   "outputs": [],
   "source": [
    "# svc = SVC(random_state=1)\n",
    "\n",
    "# params_svc = {\n",
    "#     'C': [0.5, 1, 2],\n",
    "#     #'degree': 3,\n",
    "#     'kernel': ['linear']\n",
    "#  }\n",
    "\n",
    "# search_svc = GridSearchCV(\n",
    "#     svc,\n",
    "#     param_grid=params_svc,\n",
    "#     n_jobs=-1,\n",
    "#     cv=split,\n",
    "#     scoring=\"accuracy\"\n",
    "# )"
   ]
  },
  {
   "cell_type": "code",
   "execution_count": 40,
   "metadata": {},
   "outputs": [],
   "source": [
    "# search_svc.fit(X_search, y_search)"
   ]
  },
  {
   "cell_type": "code",
   "execution_count": 41,
   "metadata": {},
   "outputs": [],
   "source": [
    "# search_svc.best_score_"
   ]
  },
  {
   "cell_type": "code",
   "execution_count": 42,
   "metadata": {},
   "outputs": [],
   "source": [
    "# svc_best = search_svc.best_estimator_"
   ]
  },
  {
   "cell_type": "code",
   "execution_count": 43,
   "metadata": {},
   "outputs": [],
   "source": [
    "# svc_best.fit(X_train, y_train)"
   ]
  },
  {
   "cell_type": "code",
   "execution_count": 44,
   "metadata": {},
   "outputs": [],
   "source": [
    "# svc_best.score(X_test, y_test)"
   ]
  },
  {
   "attachments": {},
   "cell_type": "markdown",
   "metadata": {},
   "source": [
    "### Random Forest Classifier"
   ]
  },
  {
   "cell_type": "code",
   "execution_count": 45,
   "metadata": {},
   "outputs": [],
   "source": [
    "#from sklearn.ensemble import RandomForestClassifier"
   ]
  },
  {
   "cell_type": "code",
   "execution_count": 46,
   "metadata": {},
   "outputs": [],
   "source": [
    "#rf_clf = RandomForestClassifier(random_state=1, verbose=1, n_jobs=-1)"
   ]
  },
  {
   "cell_type": "code",
   "execution_count": 47,
   "metadata": {},
   "outputs": [],
   "source": [
    "# params_rf = {\n",
    "#  'bootstrap': [True, False],\n",
    "#  'max_depth': [10, 20, 30, 40, 50, 60, 70, 80, 90, 100, None],\n",
    "#  'max_features': ['auto', 'sqrt'],\n",
    "#  'min_samples_leaf': [1, 2, 4],\n",
    "#  'min_samples_split': [2, 5, 10],\n",
    "#  'n_estimators': [200, 400, 600, 800, 1000]\n",
    "#  }\n",
    "\n",
    "# random_search = RandomizedSearchCV(rf_clf,\n",
    "#                                    param_distributions=params_rf,\n",
    "#                                    n_iter=5,\n",
    "#                                    scoring=\"accuracy\",\n",
    "#                                    n_jobs=-1,\n",
    "#                                    cv=split)"
   ]
  },
  {
   "cell_type": "code",
   "execution_count": 85,
   "metadata": {},
   "outputs": [
    {
     "name": "stdout",
     "output_type": "stream",
     "text": [
      "huggingface/tokenizers: The current process just got forked, after parallelism has already been used. Disabling parallelism to avoid deadlocks...\n",
      "To disable this warning, you can either:\n",
      "\t- Avoid using `tokenizers` before the fork if possible\n",
      "\t- Explicitly set the environment variable TOKENIZERS_PARALLELISM=(true | false)\n",
      "huggingface/tokenizers: The current process just got forked, after parallelism has already been used. Disabling parallelism to avoid deadlocks...\n",
      "To disable this warning, you can either:\n",
      "\t- Avoid using `tokenizers` before the fork if possible\n",
      "\t- Explicitly set the environment variable TOKENIZERS_PARALLELISM=(true | false)\n",
      "huggingface/tokenizers: The current process just got forked, after parallelism has already been used. Disabling parallelism to avoid deadlocks...\n",
      "To disable this warning, you can either:\n",
      "\t- Avoid using `tokenizers` before the fork if possible\n",
      "\t- Explicitly set the environment variable TOKENIZERS_PARALLELISM=(true | false)\n",
      "huggingface/tokenizers: The current process just got forked, after parallelism has already been used. Disabling parallelism to avoid deadlocks...\n",
      "To disable this warning, you can either:\n",
      "\t- Avoid using `tokenizers` before the fork if possible\n",
      "\t- Explicitly set the environment variable TOKENIZERS_PARALLELISM=(true | false)\n",
      "huggingface/tokenizers: The current process just got forked, after parallelism has already been used. Disabling parallelism to avoid deadlocks...\n",
      "To disable this warning, you can either:\n",
      "\t- Avoid using `tokenizers` before the fork if possible\n",
      "\t- Explicitly set the environment variable TOKENIZERS_PARALLELISM=(true | false)\n",
      "huggingface/tokenizers: The current process just got forked, after parallelism has already been used. Disabling parallelism to avoid deadlocks...\n",
      "To disable this warning, you can either:\n",
      "\t- Avoid using `tokenizers` before the fork if possible\n",
      "\t- Explicitly set the environment variable TOKENIZERS_PARALLELISM=(true | false)\n",
      "huggingface/tokenizers: The current process just got forked, after parallelism has already been used. Disabling parallelism to avoid deadlocks...\n",
      "To disable this warning, you can either:\n",
      "\t- Avoid using `tokenizers` before the fork if possible\n",
      "\t- Explicitly set the environment variable TOKENIZERS_PARALLELISM=(true | false)\n",
      "huggingface/tokenizers: The current process just got forked, after parallelism has already been used. Disabling parallelism to avoid deadlocks...\n",
      "To disable this warning, you can either:\n",
      "\t- Avoid using `tokenizers` before the fork if possible\n",
      "\t- Explicitly set the environment variable TOKENIZERS_PARALLELISM=(true | false)\n",
      "huggingface/tokenizers: The current process just got forked, after parallelism has already been used. Disabling parallelism to avoid deadlocks...\n",
      "To disable this warning, you can either:\n",
      "\t- Avoid using `tokenizers` before the fork if possible\n",
      "\t- Explicitly set the environment variable TOKENIZERS_PARALLELISM=(true | false)\n",
      "huggingface/tokenizers: The current process just got forked, after parallelism has already been used. Disabling parallelism to avoid deadlocks...\n",
      "To disable this warning, you can either:\n",
      "\t- Avoid using `tokenizers` before the fork if possible\n",
      "\t- Explicitly set the environment variable TOKENIZERS_PARALLELISM=(true | false)\n"
     ]
    },
    {
     "name": "stderr",
     "output_type": "stream",
     "text": [
      "/Users/michaelfiedler/.pyenv/versions/3.10.6/envs/AI_written_text_identifier/lib/python3.10/site-packages/sklearn/ensemble/_forest.py:424: FutureWarning: `max_features='auto'` has been deprecated in 1.1 and will be removed in 1.3. To keep the past behaviour, explicitly set `max_features='sqrt'` or remove this parameter as it is also the default value for RandomForestClassifiers and ExtraTreesClassifiers.\n",
      "  warn(\n",
      "/Users/michaelfiedler/.pyenv/versions/3.10.6/envs/AI_written_text_identifier/lib/python3.10/site-packages/sklearn/ensemble/_forest.py:424: FutureWarning: `max_features='auto'` has been deprecated in 1.1 and will be removed in 1.3. To keep the past behaviour, explicitly set `max_features='sqrt'` or remove this parameter as it is also the default value for RandomForestClassifiers and ExtraTreesClassifiers.\n",
      "  warn(\n",
      "/Users/michaelfiedler/.pyenv/versions/3.10.6/envs/AI_written_text_identifier/lib/python3.10/site-packages/sklearn/ensemble/_forest.py:424: FutureWarning: `max_features='auto'` has been deprecated in 1.1 and will be removed in 1.3. To keep the past behaviour, explicitly set `max_features='sqrt'` or remove this parameter as it is also the default value for RandomForestClassifiers and ExtraTreesClassifiers.\n",
      "  warn(\n",
      "[Parallel(n_jobs=-1)]: Using backend ThreadingBackend with 10 concurrent workers.\n",
      "[Parallel(n_jobs=-1)]: Using backend ThreadingBackend with 10 concurrent workers.\n",
      "[Parallel(n_jobs=-1)]: Using backend ThreadingBackend with 10 concurrent workers.\n",
      "[Parallel(n_jobs=-1)]: Using backend ThreadingBackend with 10 concurrent workers.\n",
      "[Parallel(n_jobs=-1)]: Using backend ThreadingBackend with 10 concurrent workers.\n",
      "[Parallel(n_jobs=-1)]: Done  30 tasks      | elapsed:   13.7s\n",
      "[Parallel(n_jobs=-1)]: Done  30 tasks      | elapsed:   14.9s\n",
      "[Parallel(n_jobs=-1)]: Done  30 tasks      | elapsed:   16.0s\n",
      "[Parallel(n_jobs=-1)]: Done  30 tasks      | elapsed:   20.5s\n",
      "[Parallel(n_jobs=-1)]: Done  30 tasks      | elapsed:   21.8s\n",
      "[Parallel(n_jobs=-1)]: Done 180 tasks      | elapsed:  1.3min\n",
      "[Parallel(n_jobs=-1)]: Done 180 tasks      | elapsed:  1.4min\n",
      "[Parallel(n_jobs=-1)]: Done 180 tasks      | elapsed:  1.5min\n",
      "[Parallel(n_jobs=-1)]: Done 180 tasks      | elapsed:  2.0min\n",
      "[Parallel(n_jobs=-1)]: Done 180 tasks      | elapsed:  2.1min\n",
      "[Parallel(n_jobs=-1)]: Done 430 tasks      | elapsed:  3.2min\n",
      "[Parallel(n_jobs=-1)]: Done 430 tasks      | elapsed:  3.4min\n",
      "[Parallel(n_jobs=-1)]: Done 430 tasks      | elapsed:  3.6min\n",
      "[Parallel(n_jobs=-1)]: Done 600 out of 600 | elapsed:  4.4min finished\n",
      "[Parallel(n_jobs=10)]: Using backend ThreadingBackend with 10 concurrent workers.\n",
      "[Parallel(n_jobs=10)]: Done  30 tasks      | elapsed:    0.0s\n",
      "[Parallel(n_jobs=10)]: Done 180 tasks      | elapsed:    0.2s\n",
      "[Parallel(n_jobs=10)]: Done 430 tasks      | elapsed:    0.6s\n",
      "[Parallel(n_jobs=10)]: Done 600 out of 600 | elapsed:    0.9s finished\n",
      "[Parallel(n_jobs=-1)]: Done 430 tasks      | elapsed:  4.7min\n",
      "[Parallel(n_jobs=-1)]: Done 430 tasks      | elapsed:  4.8min\n",
      "[Parallel(n_jobs=-1)]: Done 600 out of 600 | elapsed:  4.8min finished\n",
      "[Parallel(n_jobs=10)]: Using backend ThreadingBackend with 10 concurrent workers.\n",
      "[Parallel(n_jobs=10)]: Done  30 tasks      | elapsed:    0.0s\n",
      "[Parallel(n_jobs=10)]: Done 180 tasks      | elapsed:    0.2s\n",
      "[Parallel(n_jobs=10)]: Done 430 tasks      | elapsed:    0.7s\n",
      "[Parallel(n_jobs=10)]: Done 600 out of 600 | elapsed:    0.9s finished\n",
      "[Parallel(n_jobs=-1)]: Done 780 tasks      | elapsed:  5.4min\n",
      "[Parallel(n_jobs=-1)]: Done 800 out of 800 | elapsed:  5.5min finished\n",
      "[Parallel(n_jobs=10)]: Using backend ThreadingBackend with 10 concurrent workers.\n",
      "[Parallel(n_jobs=10)]: Done  30 tasks      | elapsed:    0.0s\n",
      "[Parallel(n_jobs=10)]: Done 180 tasks      | elapsed:    0.2s\n",
      "[Parallel(n_jobs=10)]: Done 430 tasks      | elapsed:    0.5s\n",
      "[Parallel(n_jobs=10)]: Done 780 tasks      | elapsed:    1.1s\n",
      "[Parallel(n_jobs=10)]: Done 800 out of 800 | elapsed:    1.1s finished\n",
      "[Parallel(n_jobs=-1)]: Done 780 tasks      | elapsed:  6.5min\n",
      "[Parallel(n_jobs=-1)]: Done 780 tasks      | elapsed:  6.6min\n",
      "[Parallel(n_jobs=-1)]: Done 800 out of 800 | elapsed:  6.7min finished\n",
      "[Parallel(n_jobs=10)]: Using backend ThreadingBackend with 10 concurrent workers.\n",
      "[Parallel(n_jobs=10)]: Done  30 tasks      | elapsed:    0.0s\n",
      "[Parallel(n_jobs=10)]: Done 180 tasks      | elapsed:    0.2s\n",
      "[Parallel(n_jobs=10)]: Done 430 tasks      | elapsed:    0.4s\n",
      "[Parallel(n_jobs=10)]: Done 780 tasks      | elapsed:    0.7s\n",
      "[Parallel(n_jobs=10)]: Done 800 out of 800 | elapsed:    0.8s finished\n",
      "[Parallel(n_jobs=-1)]: Done 1000 out of 1000 | elapsed:  7.1min finished\n",
      "[Parallel(n_jobs=10)]: Using backend ThreadingBackend with 10 concurrent workers.\n",
      "[Parallel(n_jobs=10)]: Done  30 tasks      | elapsed:    0.0s\n",
      "[Parallel(n_jobs=10)]: Done 180 tasks      | elapsed:    0.1s\n",
      "[Parallel(n_jobs=10)]: Done 430 tasks      | elapsed:    0.1s\n",
      "[Parallel(n_jobs=10)]: Done 780 tasks      | elapsed:    0.3s\n",
      "[Parallel(n_jobs=10)]: Done 1000 out of 1000 | elapsed:    0.3s finished\n",
      "[Parallel(n_jobs=-1)]: Using backend ThreadingBackend with 10 concurrent workers.\n",
      "[Parallel(n_jobs=-1)]: Done  30 tasks      | elapsed:    5.4s\n",
      "[Parallel(n_jobs=-1)]: Done 180 tasks      | elapsed:   31.4s\n",
      "[Parallel(n_jobs=-1)]: Done 430 tasks      | elapsed:  1.2min\n",
      "[Parallel(n_jobs=-1)]: Done 780 tasks      | elapsed:  2.2min\n",
      "[Parallel(n_jobs=-1)]: Done 800 out of 800 | elapsed:  2.3min finished\n"
     ]
    },
    {
     "data": {
      "text/html": [
       "<style>#sk-container-id-8 {color: black;background-color: white;}#sk-container-id-8 pre{padding: 0;}#sk-container-id-8 div.sk-toggleable {background-color: white;}#sk-container-id-8 label.sk-toggleable__label {cursor: pointer;display: block;width: 100%;margin-bottom: 0;padding: 0.3em;box-sizing: border-box;text-align: center;}#sk-container-id-8 label.sk-toggleable__label-arrow:before {content: \"▸\";float: left;margin-right: 0.25em;color: #696969;}#sk-container-id-8 label.sk-toggleable__label-arrow:hover:before {color: black;}#sk-container-id-8 div.sk-estimator:hover label.sk-toggleable__label-arrow:before {color: black;}#sk-container-id-8 div.sk-toggleable__content {max-height: 0;max-width: 0;overflow: hidden;text-align: left;background-color: #f0f8ff;}#sk-container-id-8 div.sk-toggleable__content pre {margin: 0.2em;color: black;border-radius: 0.25em;background-color: #f0f8ff;}#sk-container-id-8 input.sk-toggleable__control:checked~div.sk-toggleable__content {max-height: 200px;max-width: 100%;overflow: auto;}#sk-container-id-8 input.sk-toggleable__control:checked~label.sk-toggleable__label-arrow:before {content: \"▾\";}#sk-container-id-8 div.sk-estimator input.sk-toggleable__control:checked~label.sk-toggleable__label {background-color: #d4ebff;}#sk-container-id-8 div.sk-label input.sk-toggleable__control:checked~label.sk-toggleable__label {background-color: #d4ebff;}#sk-container-id-8 input.sk-hidden--visually {border: 0;clip: rect(1px 1px 1px 1px);clip: rect(1px, 1px, 1px, 1px);height: 1px;margin: -1px;overflow: hidden;padding: 0;position: absolute;width: 1px;}#sk-container-id-8 div.sk-estimator {font-family: monospace;background-color: #f0f8ff;border: 1px dotted black;border-radius: 0.25em;box-sizing: border-box;margin-bottom: 0.5em;}#sk-container-id-8 div.sk-estimator:hover {background-color: #d4ebff;}#sk-container-id-8 div.sk-parallel-item::after {content: \"\";width: 100%;border-bottom: 1px solid gray;flex-grow: 1;}#sk-container-id-8 div.sk-label:hover label.sk-toggleable__label {background-color: #d4ebff;}#sk-container-id-8 div.sk-serial::before {content: \"\";position: absolute;border-left: 1px solid gray;box-sizing: border-box;top: 0;bottom: 0;left: 50%;z-index: 0;}#sk-container-id-8 div.sk-serial {display: flex;flex-direction: column;align-items: center;background-color: white;padding-right: 0.2em;padding-left: 0.2em;position: relative;}#sk-container-id-8 div.sk-item {position: relative;z-index: 1;}#sk-container-id-8 div.sk-parallel {display: flex;align-items: stretch;justify-content: center;background-color: white;position: relative;}#sk-container-id-8 div.sk-item::before, #sk-container-id-8 div.sk-parallel-item::before {content: \"\";position: absolute;border-left: 1px solid gray;box-sizing: border-box;top: 0;bottom: 0;left: 50%;z-index: -1;}#sk-container-id-8 div.sk-parallel-item {display: flex;flex-direction: column;z-index: 1;position: relative;background-color: white;}#sk-container-id-8 div.sk-parallel-item:first-child::after {align-self: flex-end;width: 50%;}#sk-container-id-8 div.sk-parallel-item:last-child::after {align-self: flex-start;width: 50%;}#sk-container-id-8 div.sk-parallel-item:only-child::after {width: 0;}#sk-container-id-8 div.sk-dashed-wrapped {border: 1px dashed gray;margin: 0 0.4em 0.5em 0.4em;box-sizing: border-box;padding-bottom: 0.4em;background-color: white;}#sk-container-id-8 div.sk-label label {font-family: monospace;font-weight: bold;display: inline-block;line-height: 1.2em;}#sk-container-id-8 div.sk-label-container {text-align: center;}#sk-container-id-8 div.sk-container {/* jupyter's `normalize.less` sets `[hidden] { display: none; }` but bootstrap.min.css set `[hidden] { display: none !important; }` so we also need the `!important` here to be able to override the default hidden behavior on the sphinx rendered scikit-learn.org. See: https://github.com/scikit-learn/scikit-learn/issues/21755 */display: inline-block !important;position: relative;}#sk-container-id-8 div.sk-text-repr-fallback {display: none;}</style><div id=\"sk-container-id-8\" class=\"sk-top-container\"><div class=\"sk-text-repr-fallback\"><pre>RandomizedSearchCV(cv=PredefinedSplit(test_fold=array([-1, -1, ...,  0,  0])),\n",
       "                   estimator=RandomForestClassifier(n_jobs=-1, random_state=1,\n",
       "                                                    verbose=1),\n",
       "                   n_iter=5, n_jobs=-1,\n",
       "                   param_distributions={&#x27;bootstrap&#x27;: [True, False],\n",
       "                                        &#x27;max_depth&#x27;: [10, 20, 30, 40, 50, 60,\n",
       "                                                      70, 80, 90, 100, None],\n",
       "                                        &#x27;max_features&#x27;: [&#x27;auto&#x27;, &#x27;sqrt&#x27;],\n",
       "                                        &#x27;min_samples_leaf&#x27;: [1, 2, 4],\n",
       "                                        &#x27;min_samples_split&#x27;: [2, 5, 10],\n",
       "                                        &#x27;n_estimators&#x27;: [200, 400, 600, 800,\n",
       "                                                         1000]},\n",
       "                   scoring=&#x27;accuracy&#x27;)</pre><b>In a Jupyter environment, please rerun this cell to show the HTML representation or trust the notebook. <br />On GitHub, the HTML representation is unable to render, please try loading this page with nbviewer.org.</b></div><div class=\"sk-container\" hidden><div class=\"sk-item sk-dashed-wrapped\"><div class=\"sk-label-container\"><div class=\"sk-label sk-toggleable\"><input class=\"sk-toggleable__control sk-hidden--visually\" id=\"sk-estimator-id-16\" type=\"checkbox\" ><label for=\"sk-estimator-id-16\" class=\"sk-toggleable__label sk-toggleable__label-arrow\">RandomizedSearchCV</label><div class=\"sk-toggleable__content\"><pre>RandomizedSearchCV(cv=PredefinedSplit(test_fold=array([-1, -1, ...,  0,  0])),\n",
       "                   estimator=RandomForestClassifier(n_jobs=-1, random_state=1,\n",
       "                                                    verbose=1),\n",
       "                   n_iter=5, n_jobs=-1,\n",
       "                   param_distributions={&#x27;bootstrap&#x27;: [True, False],\n",
       "                                        &#x27;max_depth&#x27;: [10, 20, 30, 40, 50, 60,\n",
       "                                                      70, 80, 90, 100, None],\n",
       "                                        &#x27;max_features&#x27;: [&#x27;auto&#x27;, &#x27;sqrt&#x27;],\n",
       "                                        &#x27;min_samples_leaf&#x27;: [1, 2, 4],\n",
       "                                        &#x27;min_samples_split&#x27;: [2, 5, 10],\n",
       "                                        &#x27;n_estimators&#x27;: [200, 400, 600, 800,\n",
       "                                                         1000]},\n",
       "                   scoring=&#x27;accuracy&#x27;)</pre></div></div></div><div class=\"sk-parallel\"><div class=\"sk-parallel-item\"><div class=\"sk-item\"><div class=\"sk-label-container\"><div class=\"sk-label sk-toggleable\"><input class=\"sk-toggleable__control sk-hidden--visually\" id=\"sk-estimator-id-17\" type=\"checkbox\" ><label for=\"sk-estimator-id-17\" class=\"sk-toggleable__label sk-toggleable__label-arrow\">estimator: RandomForestClassifier</label><div class=\"sk-toggleable__content\"><pre>RandomForestClassifier(n_jobs=-1, random_state=1, verbose=1)</pre></div></div></div><div class=\"sk-serial\"><div class=\"sk-item\"><div class=\"sk-estimator sk-toggleable\"><input class=\"sk-toggleable__control sk-hidden--visually\" id=\"sk-estimator-id-18\" type=\"checkbox\" ><label for=\"sk-estimator-id-18\" class=\"sk-toggleable__label sk-toggleable__label-arrow\">RandomForestClassifier</label><div class=\"sk-toggleable__content\"><pre>RandomForestClassifier(n_jobs=-1, random_state=1, verbose=1)</pre></div></div></div></div></div></div></div></div></div></div>"
      ],
      "text/plain": [
       "RandomizedSearchCV(cv=PredefinedSplit(test_fold=array([-1, -1, ...,  0,  0])),\n",
       "                   estimator=RandomForestClassifier(n_jobs=-1, random_state=1,\n",
       "                                                    verbose=1),\n",
       "                   n_iter=5, n_jobs=-1,\n",
       "                   param_distributions={'bootstrap': [True, False],\n",
       "                                        'max_depth': [10, 20, 30, 40, 50, 60,\n",
       "                                                      70, 80, 90, 100, None],\n",
       "                                        'max_features': ['auto', 'sqrt'],\n",
       "                                        'min_samples_leaf': [1, 2, 4],\n",
       "                                        'min_samples_split': [2, 5, 10],\n",
       "                                        'n_estimators': [200, 400, 600, 800,\n",
       "                                                         1000]},\n",
       "                   scoring='accuracy')"
      ]
     },
     "execution_count": 85,
     "metadata": {},
     "output_type": "execute_result"
    }
   ],
   "source": [
    "# random_search.fit(X_search, y_search)"
   ]
  },
  {
   "cell_type": "code",
   "execution_count": 48,
   "metadata": {},
   "outputs": [],
   "source": [
    "#random_search.best_score_"
   ]
  },
  {
   "attachments": {},
   "cell_type": "markdown",
   "metadata": {},
   "source": [
    "### Gradient Boosting"
   ]
  },
  {
   "cell_type": "code",
   "execution_count": null,
   "metadata": {},
   "outputs": [],
   "source": [
    "# from xgboost import XGBClassifier\n",
    "# xgb_clf = XGBClassifier(booster = 'gblinear', \n",
    "#                         n_estimators=1000, \n",
    "#                         seed=1, \n",
    "#                         random_state=1)\n",
    "# #xgb_clf.get_params()\n",
    "# params_xgb = {\n",
    "#     'reg_lambda': [k*0.1 for k in range(15)]\n",
    "#     }\n",
    "\n",
    "# search_xgb = GridSearchCV(\n",
    "#     xgb_clf,\n",
    "#     param_grid=params_xgb,\n",
    "#     n_jobs=-1,\n",
    "#     cv=split,\n",
    "#     scoring=\"accuracy\"\n",
    "# )"
   ]
  },
  {
   "cell_type": "code",
   "execution_count": 29,
   "metadata": {},
   "outputs": [],
   "source": [
    "# search_xgb.fit(X_search, y_search)"
   ]
  },
  {
   "cell_type": "code",
   "execution_count": 140,
   "metadata": {},
   "outputs": [],
   "source": [
    "# xgb_best = search_xgb.best_estimator_"
   ]
  },
  {
   "cell_type": "code",
   "execution_count": 141,
   "metadata": {},
   "outputs": [
    {
     "data": {
      "text/html": [
       "<style>#sk-container-id-8 {color: black;background-color: white;}#sk-container-id-8 pre{padding: 0;}#sk-container-id-8 div.sk-toggleable {background-color: white;}#sk-container-id-8 label.sk-toggleable__label {cursor: pointer;display: block;width: 100%;margin-bottom: 0;padding: 0.3em;box-sizing: border-box;text-align: center;}#sk-container-id-8 label.sk-toggleable__label-arrow:before {content: \"▸\";float: left;margin-right: 0.25em;color: #696969;}#sk-container-id-8 label.sk-toggleable__label-arrow:hover:before {color: black;}#sk-container-id-8 div.sk-estimator:hover label.sk-toggleable__label-arrow:before {color: black;}#sk-container-id-8 div.sk-toggleable__content {max-height: 0;max-width: 0;overflow: hidden;text-align: left;background-color: #f0f8ff;}#sk-container-id-8 div.sk-toggleable__content pre {margin: 0.2em;color: black;border-radius: 0.25em;background-color: #f0f8ff;}#sk-container-id-8 input.sk-toggleable__control:checked~div.sk-toggleable__content {max-height: 200px;max-width: 100%;overflow: auto;}#sk-container-id-8 input.sk-toggleable__control:checked~label.sk-toggleable__label-arrow:before {content: \"▾\";}#sk-container-id-8 div.sk-estimator input.sk-toggleable__control:checked~label.sk-toggleable__label {background-color: #d4ebff;}#sk-container-id-8 div.sk-label input.sk-toggleable__control:checked~label.sk-toggleable__label {background-color: #d4ebff;}#sk-container-id-8 input.sk-hidden--visually {border: 0;clip: rect(1px 1px 1px 1px);clip: rect(1px, 1px, 1px, 1px);height: 1px;margin: -1px;overflow: hidden;padding: 0;position: absolute;width: 1px;}#sk-container-id-8 div.sk-estimator {font-family: monospace;background-color: #f0f8ff;border: 1px dotted black;border-radius: 0.25em;box-sizing: border-box;margin-bottom: 0.5em;}#sk-container-id-8 div.sk-estimator:hover {background-color: #d4ebff;}#sk-container-id-8 div.sk-parallel-item::after {content: \"\";width: 100%;border-bottom: 1px solid gray;flex-grow: 1;}#sk-container-id-8 div.sk-label:hover label.sk-toggleable__label {background-color: #d4ebff;}#sk-container-id-8 div.sk-serial::before {content: \"\";position: absolute;border-left: 1px solid gray;box-sizing: border-box;top: 0;bottom: 0;left: 50%;z-index: 0;}#sk-container-id-8 div.sk-serial {display: flex;flex-direction: column;align-items: center;background-color: white;padding-right: 0.2em;padding-left: 0.2em;position: relative;}#sk-container-id-8 div.sk-item {position: relative;z-index: 1;}#sk-container-id-8 div.sk-parallel {display: flex;align-items: stretch;justify-content: center;background-color: white;position: relative;}#sk-container-id-8 div.sk-item::before, #sk-container-id-8 div.sk-parallel-item::before {content: \"\";position: absolute;border-left: 1px solid gray;box-sizing: border-box;top: 0;bottom: 0;left: 50%;z-index: -1;}#sk-container-id-8 div.sk-parallel-item {display: flex;flex-direction: column;z-index: 1;position: relative;background-color: white;}#sk-container-id-8 div.sk-parallel-item:first-child::after {align-self: flex-end;width: 50%;}#sk-container-id-8 div.sk-parallel-item:last-child::after {align-self: flex-start;width: 50%;}#sk-container-id-8 div.sk-parallel-item:only-child::after {width: 0;}#sk-container-id-8 div.sk-dashed-wrapped {border: 1px dashed gray;margin: 0 0.4em 0.5em 0.4em;box-sizing: border-box;padding-bottom: 0.4em;background-color: white;}#sk-container-id-8 div.sk-label label {font-family: monospace;font-weight: bold;display: inline-block;line-height: 1.2em;}#sk-container-id-8 div.sk-label-container {text-align: center;}#sk-container-id-8 div.sk-container {/* jupyter's `normalize.less` sets `[hidden] { display: none; }` but bootstrap.min.css set `[hidden] { display: none !important; }` so we also need the `!important` here to be able to override the default hidden behavior on the sphinx rendered scikit-learn.org. See: https://github.com/scikit-learn/scikit-learn/issues/21755 */display: inline-block !important;position: relative;}#sk-container-id-8 div.sk-text-repr-fallback {display: none;}</style><div id=\"sk-container-id-8\" class=\"sk-top-container\"><div class=\"sk-text-repr-fallback\"><pre>XGBClassifier(base_score=None, booster=&#x27;gblinear&#x27;, callbacks=None,\n",
       "              colsample_bylevel=None, colsample_bynode=None,\n",
       "              colsample_bytree=None, early_stopping_rounds=None,\n",
       "              enable_categorical=False, eval_metric=None, feature_types=None,\n",
       "              gamma=None, gpu_id=None, grow_policy=None, importance_type=None,\n",
       "              interaction_constraints=None, learning_rate=None, max_bin=None,\n",
       "              max_cat_threshold=None, max_cat_to_onehot=None,\n",
       "              max_delta_step=None, max_depth=None, max_leaves=None,\n",
       "              min_child_weight=None, missing=nan, monotone_constraints=None,\n",
       "              n_estimators=1000, n_jobs=None, num_parallel_tree=None,\n",
       "              predictor=None, random_state=1, ...)</pre><b>In a Jupyter environment, please rerun this cell to show the HTML representation or trust the notebook. <br />On GitHub, the HTML representation is unable to render, please try loading this page with nbviewer.org.</b></div><div class=\"sk-container\" hidden><div class=\"sk-item\"><div class=\"sk-estimator sk-toggleable\"><input class=\"sk-toggleable__control sk-hidden--visually\" id=\"sk-estimator-id-16\" type=\"checkbox\" checked><label for=\"sk-estimator-id-16\" class=\"sk-toggleable__label sk-toggleable__label-arrow\">XGBClassifier</label><div class=\"sk-toggleable__content\"><pre>XGBClassifier(base_score=None, booster=&#x27;gblinear&#x27;, callbacks=None,\n",
       "              colsample_bylevel=None, colsample_bynode=None,\n",
       "              colsample_bytree=None, early_stopping_rounds=None,\n",
       "              enable_categorical=False, eval_metric=None, feature_types=None,\n",
       "              gamma=None, gpu_id=None, grow_policy=None, importance_type=None,\n",
       "              interaction_constraints=None, learning_rate=None, max_bin=None,\n",
       "              max_cat_threshold=None, max_cat_to_onehot=None,\n",
       "              max_delta_step=None, max_depth=None, max_leaves=None,\n",
       "              min_child_weight=None, missing=nan, monotone_constraints=None,\n",
       "              n_estimators=1000, n_jobs=None, num_parallel_tree=None,\n",
       "              predictor=None, random_state=1, ...)</pre></div></div></div></div></div>"
      ],
      "text/plain": [
       "XGBClassifier(base_score=None, booster='gblinear', callbacks=None,\n",
       "              colsample_bylevel=None, colsample_bynode=None,\n",
       "              colsample_bytree=None, early_stopping_rounds=None,\n",
       "              enable_categorical=False, eval_metric=None, feature_types=None,\n",
       "              gamma=None, gpu_id=None, grow_policy=None, importance_type=None,\n",
       "              interaction_constraints=None, learning_rate=None, max_bin=None,\n",
       "              max_cat_threshold=None, max_cat_to_onehot=None,\n",
       "              max_delta_step=None, max_depth=None, max_leaves=None,\n",
       "              min_child_weight=None, missing=nan, monotone_constraints=None,\n",
       "              n_estimators=1000, n_jobs=None, num_parallel_tree=None,\n",
       "              predictor=None, random_state=1, ...)"
      ]
     },
     "execution_count": 141,
     "metadata": {},
     "output_type": "execute_result"
    }
   ],
   "source": [
    "# xgb_best.fit(X_train, y_train)"
   ]
  },
  {
   "cell_type": "code",
   "execution_count": 142,
   "metadata": {},
   "outputs": [
    {
     "data": {
      "text/plain": [
       "['trained_models/xgb_best_roberta-large.joblib.dat']"
      ]
     },
     "execution_count": 142,
     "metadata": {},
     "output_type": "execute_result"
    }
   ],
   "source": [
    "# dump(xgb_best, f\"trained_models/xgb_best_{model_ckpt}.joblib.dat\")"
   ]
  },
  {
   "cell_type": "code",
   "execution_count": 143,
   "metadata": {},
   "outputs": [],
   "source": [
    "# scores_model_roberta[\"xgb\"] = xgb_best.score(X_test, y_test)"
   ]
  },
  {
   "cell_type": "code",
   "execution_count": 144,
   "metadata": {},
   "outputs": [
    {
     "data": {
      "text/plain": [
       "0.9368"
      ]
     },
     "execution_count": 144,
     "metadata": {},
     "output_type": "execute_result"
    }
   ],
   "source": [
    "# scores_model_roberta[\"xgb\"]"
   ]
  },
  {
   "attachments": {},
   "cell_type": "markdown",
   "metadata": {},
   "source": [
    "### Ridge Classification"
   ]
  },
  {
   "cell_type": "code",
   "execution_count": 30,
   "metadata": {},
   "outputs": [],
   "source": [
    "from sklearn.linear_model import RidgeClassifierCV"
   ]
  },
  {
   "cell_type": "code",
   "execution_count": 41,
   "metadata": {},
   "outputs": [
    {
     "name": "stderr",
     "output_type": "stream",
     "text": [
      "/Users/michaelfiedler/.pyenv/versions/3.10.6/envs/AI_written_text_identifier/lib/python3.10/site-packages/sklearn/linear_model/_ridge.py:216: LinAlgWarning: Ill-conditioned matrix (rcond=5.56558e-09): result may not be accurate.\n",
      "  return linalg.solve(A, Xy, assume_a=\"pos\", overwrite_a=True).T\n",
      "/Users/michaelfiedler/.pyenv/versions/3.10.6/envs/AI_written_text_identifier/lib/python3.10/site-packages/sklearn/linear_model/_ridge.py:216: LinAlgWarning: Ill-conditioned matrix (rcond=7.28438e-09): result may not be accurate.\n",
      "  return linalg.solve(A, Xy, assume_a=\"pos\", overwrite_a=True).T\n",
      "/Users/michaelfiedler/.pyenv/versions/3.10.6/envs/AI_written_text_identifier/lib/python3.10/site-packages/sklearn/linear_model/_ridge.py:216: LinAlgWarning: Ill-conditioned matrix (rcond=9.00005e-09): result may not be accurate.\n",
      "  return linalg.solve(A, Xy, assume_a=\"pos\", overwrite_a=True).T\n",
      "/Users/michaelfiedler/.pyenv/versions/3.10.6/envs/AI_written_text_identifier/lib/python3.10/site-packages/sklearn/linear_model/_ridge.py:216: LinAlgWarning: Ill-conditioned matrix (rcond=1.08183e-08): result may not be accurate.\n",
      "  return linalg.solve(A, Xy, assume_a=\"pos\", overwrite_a=True).T\n",
      "/Users/michaelfiedler/.pyenv/versions/3.10.6/envs/AI_written_text_identifier/lib/python3.10/site-packages/sklearn/linear_model/_ridge.py:216: LinAlgWarning: Ill-conditioned matrix (rcond=6.35591e-09): result may not be accurate.\n",
      "  return linalg.solve(A, Xy, assume_a=\"pos\", overwrite_a=True).T\n"
     ]
    },
    {
     "data": {
      "text/html": [
       "<style>#sk-container-id-5 {color: black;background-color: white;}#sk-container-id-5 pre{padding: 0;}#sk-container-id-5 div.sk-toggleable {background-color: white;}#sk-container-id-5 label.sk-toggleable__label {cursor: pointer;display: block;width: 100%;margin-bottom: 0;padding: 0.3em;box-sizing: border-box;text-align: center;}#sk-container-id-5 label.sk-toggleable__label-arrow:before {content: \"▸\";float: left;margin-right: 0.25em;color: #696969;}#sk-container-id-5 label.sk-toggleable__label-arrow:hover:before {color: black;}#sk-container-id-5 div.sk-estimator:hover label.sk-toggleable__label-arrow:before {color: black;}#sk-container-id-5 div.sk-toggleable__content {max-height: 0;max-width: 0;overflow: hidden;text-align: left;background-color: #f0f8ff;}#sk-container-id-5 div.sk-toggleable__content pre {margin: 0.2em;color: black;border-radius: 0.25em;background-color: #f0f8ff;}#sk-container-id-5 input.sk-toggleable__control:checked~div.sk-toggleable__content {max-height: 200px;max-width: 100%;overflow: auto;}#sk-container-id-5 input.sk-toggleable__control:checked~label.sk-toggleable__label-arrow:before {content: \"▾\";}#sk-container-id-5 div.sk-estimator input.sk-toggleable__control:checked~label.sk-toggleable__label {background-color: #d4ebff;}#sk-container-id-5 div.sk-label input.sk-toggleable__control:checked~label.sk-toggleable__label {background-color: #d4ebff;}#sk-container-id-5 input.sk-hidden--visually {border: 0;clip: rect(1px 1px 1px 1px);clip: rect(1px, 1px, 1px, 1px);height: 1px;margin: -1px;overflow: hidden;padding: 0;position: absolute;width: 1px;}#sk-container-id-5 div.sk-estimator {font-family: monospace;background-color: #f0f8ff;border: 1px dotted black;border-radius: 0.25em;box-sizing: border-box;margin-bottom: 0.5em;}#sk-container-id-5 div.sk-estimator:hover {background-color: #d4ebff;}#sk-container-id-5 div.sk-parallel-item::after {content: \"\";width: 100%;border-bottom: 1px solid gray;flex-grow: 1;}#sk-container-id-5 div.sk-label:hover label.sk-toggleable__label {background-color: #d4ebff;}#sk-container-id-5 div.sk-serial::before {content: \"\";position: absolute;border-left: 1px solid gray;box-sizing: border-box;top: 0;bottom: 0;left: 50%;z-index: 0;}#sk-container-id-5 div.sk-serial {display: flex;flex-direction: column;align-items: center;background-color: white;padding-right: 0.2em;padding-left: 0.2em;position: relative;}#sk-container-id-5 div.sk-item {position: relative;z-index: 1;}#sk-container-id-5 div.sk-parallel {display: flex;align-items: stretch;justify-content: center;background-color: white;position: relative;}#sk-container-id-5 div.sk-item::before, #sk-container-id-5 div.sk-parallel-item::before {content: \"\";position: absolute;border-left: 1px solid gray;box-sizing: border-box;top: 0;bottom: 0;left: 50%;z-index: -1;}#sk-container-id-5 div.sk-parallel-item {display: flex;flex-direction: column;z-index: 1;position: relative;background-color: white;}#sk-container-id-5 div.sk-parallel-item:first-child::after {align-self: flex-end;width: 50%;}#sk-container-id-5 div.sk-parallel-item:last-child::after {align-self: flex-start;width: 50%;}#sk-container-id-5 div.sk-parallel-item:only-child::after {width: 0;}#sk-container-id-5 div.sk-dashed-wrapped {border: 1px dashed gray;margin: 0 0.4em 0.5em 0.4em;box-sizing: border-box;padding-bottom: 0.4em;background-color: white;}#sk-container-id-5 div.sk-label label {font-family: monospace;font-weight: bold;display: inline-block;line-height: 1.2em;}#sk-container-id-5 div.sk-label-container {text-align: center;}#sk-container-id-5 div.sk-container {/* jupyter's `normalize.less` sets `[hidden] { display: none; }` but bootstrap.min.css set `[hidden] { display: none !important; }` so we also need the `!important` here to be able to override the default hidden behavior on the sphinx rendered scikit-learn.org. See: https://github.com/scikit-learn/scikit-learn/issues/21755 */display: inline-block !important;position: relative;}#sk-container-id-5 div.sk-text-repr-fallback {display: none;}</style><div id=\"sk-container-id-5\" class=\"sk-top-container\"><div class=\"sk-text-repr-fallback\"><pre>RidgeClassifierCV(alphas=[0.03, 0.04, 0.05, 0.06],\n",
       "                  cv=PredefinedSplit(test_fold=array([-1, -1, ...,  0,  0])))</pre><b>In a Jupyter environment, please rerun this cell to show the HTML representation or trust the notebook. <br />On GitHub, the HTML representation is unable to render, please try loading this page with nbviewer.org.</b></div><div class=\"sk-container\" hidden><div class=\"sk-item\"><div class=\"sk-estimator sk-toggleable\"><input class=\"sk-toggleable__control sk-hidden--visually\" id=\"sk-estimator-id-5\" type=\"checkbox\" checked><label for=\"sk-estimator-id-5\" class=\"sk-toggleable__label sk-toggleable__label-arrow\">RidgeClassifierCV</label><div class=\"sk-toggleable__content\"><pre>RidgeClassifierCV(alphas=[0.03, 0.04, 0.05, 0.06],\n",
       "                  cv=PredefinedSplit(test_fold=array([-1, -1, ...,  0,  0])))</pre></div></div></div></div></div>"
      ],
      "text/plain": [
       "RidgeClassifierCV(alphas=[0.03, 0.04, 0.05, 0.06],\n",
       "                  cv=PredefinedSplit(test_fold=array([-1, -1, ...,  0,  0])))"
      ]
     },
     "execution_count": 41,
     "metadata": {},
     "output_type": "execute_result"
    }
   ],
   "source": [
    "ridge_clf = RidgeClassifierCV(alphas=[0.03, 0.04, 0.05, 0.06], cv=split)\n",
    "\n",
    "ridge_clf.fit(X_search, y_search)"
   ]
  },
  {
   "cell_type": "code",
   "execution_count": 43,
   "metadata": {},
   "outputs": [
    {
     "data": {
      "text/plain": [
       "0.9601"
      ]
     },
     "execution_count": 43,
     "metadata": {},
     "output_type": "execute_result"
    }
   ],
   "source": [
    "ridge_clf.best_score_"
   ]
  },
  {
   "cell_type": "code",
   "execution_count": 44,
   "metadata": {},
   "outputs": [
    {
     "data": {
      "text/plain": [
       "['trained_models_70000/ridge_clf_roberta-large.joblib']"
      ]
     },
     "execution_count": 44,
     "metadata": {},
     "output_type": "execute_result"
    }
   ],
   "source": [
    "dump(ridge_clf, f\"trained_models_{train_size}/ridge_clf_{model_ckpt}.joblib\")"
   ]
  },
  {
   "cell_type": "code",
   "execution_count": 45,
   "metadata": {},
   "outputs": [],
   "source": [
    "scores_model_roberta[\"ridge\"] = ridge_clf.score(X_test, y_test)"
   ]
  },
  {
   "cell_type": "code",
   "execution_count": 46,
   "metadata": {},
   "outputs": [
    {
     "data": {
      "text/plain": [
       "0.9591"
      ]
     },
     "execution_count": 46,
     "metadata": {},
     "output_type": "execute_result"
    }
   ],
   "source": [
    "scores_model_roberta[\"ridge\"]"
   ]
  },
  {
   "attachments": {},
   "cell_type": "markdown",
   "metadata": {},
   "source": [
    "### Simple NN"
   ]
  },
  {
   "cell_type": "code",
   "execution_count": 223,
   "metadata": {},
   "outputs": [
    {
     "name": "stdout",
     "output_type": "stream",
     "text": [
      "Model: \"basic_nn\"\n",
      "_________________________________________________________________\n",
      " Layer (type)                Output Shape              Param #   \n",
      "=================================================================\n",
      " input_18 (InputLayer)       [(None, 1024)]            0         \n",
      "                                                                 \n",
      " dense_52 (Dense)            (None, 64)                65600     \n",
      "                                                                 \n",
      " dense_53 (Dense)            (None, 64)                4160      \n",
      "                                                                 \n",
      " dropout_114 (Dropout)       (None, 64)                0         \n",
      "                                                                 \n",
      " dense_54 (Dense)            (None, 1)                 65        \n",
      "                                                                 \n",
      "=================================================================\n",
      "Total params: 69825 (272.75 KB)\n",
      "Trainable params: 69825 (272.75 KB)\n",
      "Non-trainable params: 0 (0.00 Byte)\n",
      "_________________________________________________________________\n"
     ]
    }
   ],
   "source": [
    "nn_inputs = keras.Input(shape=(X_train.shape[1],))\n",
    "x = layers.Dense(64, activation='gelu', kernel_initializer=\"he_normal\")(nn_inputs)\n",
    "#x = layers.Dropout(0.1)(x)\n",
    "x = layers.Dense(64, activation='gelu', kernel_initializer=\"he_normal\")(x)\n",
    "x = layers.Dropout(0.1)(x)\n",
    "outputs = layers.Dense(1, activation=\"sigmoid\")(x)\n",
    "nn_model = Model(inputs=nn_inputs, outputs = outputs, name=\"basic_nn\")\n",
    "nn_model.summary()"
   ]
  },
  {
   "cell_type": "code",
   "execution_count": 224,
   "metadata": {},
   "outputs": [
    {
     "name": "stderr",
     "output_type": "stream",
     "text": [
      "WARNING:absl:At this time, the v2.11+ optimizer `tf.keras.optimizers.Adam` runs slowly on M1/M2 Macs, please use the legacy Keras optimizer instead, located at `tf.keras.optimizers.legacy.Adam`.\n",
      "WARNING:absl:There is a known slowdown when using v2.11+ Keras optimizers on M1/M2 Macs. Falling back to the legacy Keras optimizer, i.e., `tf.keras.optimizers.legacy.Adam`.\n"
     ]
    }
   ],
   "source": [
    "num_epochs = 150\n",
    "num_train_examples = X_train.shape[0]\n",
    "batch_size = 32\n",
    "init_lr = 1e-3\n",
    "\n",
    "decay_steps = num_train_examples // batch_size\n",
    "\n",
    "lr_schedule = optimizers.schedules.ExponentialDecay(initial_learning_rate=init_lr,\n",
    "                                                    decay_steps=decay_steps,\n",
    "                                                    decay_rate=0.9)\n",
    "\n",
    "es = callbacks.EarlyStopping(monitor=\"val_binary_accuracy\",\n",
    "                             mode=\"max\",\n",
    "                             patience=10,\n",
    "                             restore_best_weights=True)\n",
    "\n",
    "nn_model.compile(loss=keras.losses.BinaryCrossentropy(from_logits=True),\n",
    "                 metrics=[keras.metrics.BinaryAccuracy()],\n",
    "                 optimizer = optimizers.Adam(lr_schedule))"
   ]
  },
  {
   "cell_type": "code",
   "execution_count": 225,
   "metadata": {},
   "outputs": [
    {
     "name": "stdout",
     "output_type": "stream",
     "text": [
      "Epoch 1/150\n"
     ]
    },
    {
     "name": "stderr",
     "output_type": "stream",
     "text": [
      "/Users/michaelfiedler/.pyenv/versions/3.10.6/envs/AI_written_text_identifier/lib/python3.10/site-packages/keras/src/backend.py:5805: UserWarning: \"`binary_crossentropy` received `from_logits=True`, but the `output` argument was produced by a Sigmoid activation and thus does not represent logits. Was this intended?\n",
      "  output, from_logits = _get_logits(\n",
      "2023-06-24 12:58:31.575438: I tensorflow/core/grappler/optimizers/custom_graph_optimizer_registry.cc:114] Plugin optimizer for device_type GPU is enabled.\n"
     ]
    },
    {
     "name": "stdout",
     "output_type": "stream",
     "text": [
      "1245/1250 [============================>.] - ETA: 0s - loss: 0.3850 - binary_accuracy: 0.8239"
     ]
    },
    {
     "name": "stderr",
     "output_type": "stream",
     "text": [
      "2023-06-24 12:58:40.424640: I tensorflow/core/grappler/optimizers/custom_graph_optimizer_registry.cc:114] Plugin optimizer for device_type GPU is enabled.\n"
     ]
    },
    {
     "name": "stdout",
     "output_type": "stream",
     "text": [
      "1250/1250 [==============================] - 10s 8ms/step - loss: 0.3847 - binary_accuracy: 0.8241 - val_loss: 0.2960 - val_binary_accuracy: 0.8749\n",
      "Epoch 2/150\n",
      "1250/1250 [==============================] - 10s 8ms/step - loss: 0.2679 - binary_accuracy: 0.8838 - val_loss: 0.2898 - val_binary_accuracy: 0.8699\n",
      "Epoch 3/150\n",
      "1250/1250 [==============================] - 9s 8ms/step - loss: 0.2353 - binary_accuracy: 0.9006 - val_loss: 0.2055 - val_binary_accuracy: 0.9203\n",
      "Epoch 4/150\n",
      "1250/1250 [==============================] - 9s 8ms/step - loss: 0.2166 - binary_accuracy: 0.9092 - val_loss: 0.1917 - val_binary_accuracy: 0.9252\n",
      "Epoch 5/150\n",
      "1250/1250 [==============================] - 10s 8ms/step - loss: 0.2047 - binary_accuracy: 0.9136 - val_loss: 0.1854 - val_binary_accuracy: 0.9252\n",
      "Epoch 6/150\n",
      "1250/1250 [==============================] - 9s 8ms/step - loss: 0.1877 - binary_accuracy: 0.9216 - val_loss: 0.2131 - val_binary_accuracy: 0.9086\n",
      "Epoch 7/150\n",
      "1250/1250 [==============================] - 9s 8ms/step - loss: 0.1839 - binary_accuracy: 0.9244 - val_loss: 0.1729 - val_binary_accuracy: 0.9300\n",
      "Epoch 8/150\n",
      "1250/1250 [==============================] - 9s 7ms/step - loss: 0.1727 - binary_accuracy: 0.9277 - val_loss: 0.1918 - val_binary_accuracy: 0.9197\n",
      "Epoch 9/150\n",
      "1250/1250 [==============================] - 9s 8ms/step - loss: 0.1701 - binary_accuracy: 0.9301 - val_loss: 0.1961 - val_binary_accuracy: 0.9183\n",
      "Epoch 10/150\n",
      "1250/1250 [==============================] - 9s 7ms/step - loss: 0.1631 - binary_accuracy: 0.9323 - val_loss: 0.1980 - val_binary_accuracy: 0.9203\n",
      "Epoch 11/150\n",
      "1250/1250 [==============================] - 9s 7ms/step - loss: 0.1600 - binary_accuracy: 0.9338 - val_loss: 0.1733 - val_binary_accuracy: 0.9302\n",
      "Epoch 12/150\n",
      "1250/1250 [==============================] - 9s 7ms/step - loss: 0.1527 - binary_accuracy: 0.9377 - val_loss: 0.2263 - val_binary_accuracy: 0.9062\n",
      "Epoch 13/150\n",
      "1250/1250 [==============================] - 9s 7ms/step - loss: 0.1479 - binary_accuracy: 0.9401 - val_loss: 0.1588 - val_binary_accuracy: 0.9361\n",
      "Epoch 14/150\n",
      "1250/1250 [==============================] - 9s 7ms/step - loss: 0.1455 - binary_accuracy: 0.9413 - val_loss: 0.1826 - val_binary_accuracy: 0.9253\n",
      "Epoch 15/150\n",
      "1250/1250 [==============================] - 9s 8ms/step - loss: 0.1410 - binary_accuracy: 0.9424 - val_loss: 0.1617 - val_binary_accuracy: 0.9346\n",
      "Epoch 16/150\n",
      "1250/1250 [==============================] - 9s 7ms/step - loss: 0.1363 - binary_accuracy: 0.9449 - val_loss: 0.1536 - val_binary_accuracy: 0.9378\n",
      "Epoch 17/150\n",
      "1250/1250 [==============================] - 9s 7ms/step - loss: 0.1328 - binary_accuracy: 0.9458 - val_loss: 0.2069 - val_binary_accuracy: 0.9162\n",
      "Epoch 18/150\n",
      "1250/1250 [==============================] - 9s 7ms/step - loss: 0.1308 - binary_accuracy: 0.9464 - val_loss: 0.1571 - val_binary_accuracy: 0.9380\n",
      "Epoch 19/150\n",
      "1250/1250 [==============================] - 9s 7ms/step - loss: 0.1284 - binary_accuracy: 0.9477 - val_loss: 0.1629 - val_binary_accuracy: 0.9341\n",
      "Epoch 20/150\n",
      "1250/1250 [==============================] - 9s 7ms/step - loss: 0.1263 - binary_accuracy: 0.9489 - val_loss: 0.1737 - val_binary_accuracy: 0.9299\n",
      "Epoch 21/150\n",
      "1250/1250 [==============================] - 9s 7ms/step - loss: 0.1237 - binary_accuracy: 0.9498 - val_loss: 0.1557 - val_binary_accuracy: 0.9399\n",
      "Epoch 22/150\n",
      "1250/1250 [==============================] - 9s 7ms/step - loss: 0.1221 - binary_accuracy: 0.9513 - val_loss: 0.1531 - val_binary_accuracy: 0.9397\n",
      "Epoch 23/150\n",
      "1250/1250 [==============================] - 9s 7ms/step - loss: 0.1199 - binary_accuracy: 0.9523 - val_loss: 0.1607 - val_binary_accuracy: 0.9364\n",
      "Epoch 24/150\n",
      "1250/1250 [==============================] - 9s 7ms/step - loss: 0.1196 - binary_accuracy: 0.9512 - val_loss: 0.1575 - val_binary_accuracy: 0.9386\n",
      "Epoch 25/150\n",
      "1250/1250 [==============================] - 9s 7ms/step - loss: 0.1171 - binary_accuracy: 0.9525 - val_loss: 0.1527 - val_binary_accuracy: 0.9398\n",
      "Epoch 26/150\n",
      "1250/1250 [==============================] - 9s 7ms/step - loss: 0.1155 - binary_accuracy: 0.9533 - val_loss: 0.1524 - val_binary_accuracy: 0.9399\n",
      "Epoch 27/150\n",
      "1250/1250 [==============================] - 9s 7ms/step - loss: 0.1141 - binary_accuracy: 0.9545 - val_loss: 0.1531 - val_binary_accuracy: 0.9414\n",
      "Epoch 28/150\n",
      "1250/1250 [==============================] - 9s 7ms/step - loss: 0.1130 - binary_accuracy: 0.9547 - val_loss: 0.1527 - val_binary_accuracy: 0.9414\n",
      "Epoch 29/150\n",
      "1250/1250 [==============================] - 9s 7ms/step - loss: 0.1116 - binary_accuracy: 0.9552 - val_loss: 0.1522 - val_binary_accuracy: 0.9403\n",
      "Epoch 30/150\n",
      "1250/1250 [==============================] - 9s 7ms/step - loss: 0.1112 - binary_accuracy: 0.9552 - val_loss: 0.1546 - val_binary_accuracy: 0.9379\n",
      "Epoch 31/150\n",
      "1250/1250 [==============================] - 9s 7ms/step - loss: 0.1101 - binary_accuracy: 0.9559 - val_loss: 0.1523 - val_binary_accuracy: 0.9414\n",
      "Epoch 32/150\n",
      "1250/1250 [==============================] - 9s 7ms/step - loss: 0.1102 - binary_accuracy: 0.9556 - val_loss: 0.1529 - val_binary_accuracy: 0.9406\n",
      "Epoch 33/150\n",
      "1250/1250 [==============================] - 9s 7ms/step - loss: 0.1090 - binary_accuracy: 0.9565 - val_loss: 0.1533 - val_binary_accuracy: 0.9413\n",
      "Epoch 34/150\n",
      "1250/1250 [==============================] - 9s 7ms/step - loss: 0.1077 - binary_accuracy: 0.9568 - val_loss: 0.1523 - val_binary_accuracy: 0.9417\n",
      "Epoch 35/150\n",
      "1250/1250 [==============================] - 9s 7ms/step - loss: 0.1072 - binary_accuracy: 0.9575 - val_loss: 0.1536 - val_binary_accuracy: 0.9409\n",
      "Epoch 36/150\n",
      "1250/1250 [==============================] - 9s 7ms/step - loss: 0.1068 - binary_accuracy: 0.9575 - val_loss: 0.1552 - val_binary_accuracy: 0.9395\n",
      "Epoch 37/150\n",
      "1250/1250 [==============================] - 9s 7ms/step - loss: 0.1066 - binary_accuracy: 0.9578 - val_loss: 0.1543 - val_binary_accuracy: 0.9408\n",
      "Epoch 38/150\n",
      "1250/1250 [==============================] - 9s 7ms/step - loss: 0.1063 - binary_accuracy: 0.9578 - val_loss: 0.1534 - val_binary_accuracy: 0.9412\n",
      "Epoch 39/150\n",
      "1250/1250 [==============================] - 9s 7ms/step - loss: 0.1054 - binary_accuracy: 0.9585 - val_loss: 0.1546 - val_binary_accuracy: 0.9409\n",
      "Epoch 40/150\n",
      "1250/1250 [==============================] - 9s 7ms/step - loss: 0.1047 - binary_accuracy: 0.9581 - val_loss: 0.1559 - val_binary_accuracy: 0.9403\n",
      "Epoch 41/150\n",
      "1250/1250 [==============================] - 9s 7ms/step - loss: 0.1052 - binary_accuracy: 0.9583 - val_loss: 0.1536 - val_binary_accuracy: 0.9411\n",
      "Epoch 42/150\n",
      "1250/1250 [==============================] - 9s 7ms/step - loss: 0.1043 - binary_accuracy: 0.9589 - val_loss: 0.1558 - val_binary_accuracy: 0.9404\n",
      "Epoch 43/150\n",
      "1250/1250 [==============================] - 9s 7ms/step - loss: 0.1044 - binary_accuracy: 0.9584 - val_loss: 0.1538 - val_binary_accuracy: 0.9410\n",
      "Epoch 44/150\n",
      "1250/1250 [==============================] - 9s 8ms/step - loss: 0.1040 - binary_accuracy: 0.9591 - val_loss: 0.1540 - val_binary_accuracy: 0.9417\n"
     ]
    }
   ],
   "source": [
    "history = nn_model.fit(X_train, y_train,\n",
    "             batch_size=batch_size,\n",
    "             epochs=num_epochs,\n",
    "             validation_data=(X_val, y_val),\n",
    "             callbacks=[es])"
   ]
  },
  {
   "cell_type": "code",
   "execution_count": 226,
   "metadata": {},
   "outputs": [
    {
     "data": {
      "image/png": "[encoded data removed]",
      "text/plain": [
       "<Figure size 640x480 with 1 Axes>"
      ]
     },
     "metadata": {},
     "output_type": "display_data"
    }
   ],
   "source": [
    "plt.plot(history.history[\"val_binary_accuracy\"])\n",
    "plt.plot(history.history[\"binary_accuracy\"]);"
   ]
  },
  {
   "cell_type": "code",
   "execution_count": 227,
   "metadata": {},
   "outputs": [
    {
     "name": "stdout",
     "output_type": "stream",
     "text": [
      "313/313 [==============================] - 2s 5ms/step - loss: 0.1626 - binary_accuracy: 0.9370\n"
     ]
    },
    {
     "data": {
      "text/plain": [
       "0.9369999766349792"
      ]
     },
     "execution_count": 227,
     "metadata": {},
     "output_type": "execute_result"
    }
   ],
   "source": [
    "scores_model_roberta[\"neural_network\"] = nn_model.evaluate(X_test, y_test)[1]\n",
    "scores_model_roberta[\"neural_network\"]"
   ]
  },
  {
   "cell_type": "code",
   "execution_count": 228,
   "metadata": {},
   "outputs": [
    {
     "name": "stdout",
     "output_type": "stream",
     "text": [
      "INFO:tensorflow:Assets written to: nn_model_roberta-large/assets\n"
     ]
    },
    {
     "name": "stderr",
     "output_type": "stream",
     "text": [
      "INFO:tensorflow:Assets written to: nn_model_roberta-large/assets\n"
     ]
    }
   ],
   "source": [
    "nn_model.save(f\"nn_model_{model_ckpt}\")"
   ]
  },
  {
   "attachments": {},
   "cell_type": "markdown",
   "metadata": {},
   "source": [
    "## Get Prediction for input text"
   ]
  },
  {
   "cell_type": "code",
   "execution_count": 284,
   "metadata": {},
   "outputs": [
    {
     "data": {
      "text/plain": [
       "array([0.99881792, 0.00118208])"
      ]
     },
     "execution_count": 284,
     "metadata": {},
     "output_type": "execute_result"
    }
   ],
   "source": [
    "test_text = test.loc[9999, \"text\"]\n",
    "test_text_gpt3 = '''In recent years, we have witnessed a remarkable revolution in \n",
    "the field of artificial intelligence (AI). The rapid advancements in machine learning \n",
    "and neural networks have unlocked unprecedented capabilities, enabling AI systems to \n",
    "perform complex tasks and mimic human intelligence with remarkable accuracy. \n",
    "This revolution has had a profound impact on various aspects of our lives, including \n",
    "communication, entertainment, and information dissemination.'''\n",
    "#nn_model.predict(model(**tokenizer(test_text_gpt3, return_tensors='tf')).last_hidden_state[:,0].numpy())\n",
    "lr_clf_best.predict_proba(model(**tokenizer(test_text_gpt3, return_tensors='tf')).last_hidden_state[:,0].numpy())[0]"
   ]
  },
  {
   "cell_type": "code",
   "execution_count": 285,
   "metadata": {},
   "outputs": [],
   "source": [
    "def get_prediction(text_input: str, \n",
    "                   model_ckpt: str=\"distilbert-base-uncased\",\n",
    "                   model_name: str=\"nn\") -> tuple[float, str]:\n",
    "    '''outputs the probability of the text being AI written\n",
    "    ---\n",
    "    text_input: text to be classified\n",
    "    ---\n",
    "    model_ckpt: model to be used for feature extraction. Options are \"distilbert\"\n",
    "    and \"roberta\".\n",
    "    ---\n",
    "    model_name: model to be used for classification. Options are \"nn\" \n",
    "    for neural network, \"xgb\" for xgboost,\n",
    "    \"lr\" for logistic regression, \"ridge\" for ridge classifier.\n",
    "    '''\n",
    "    # instantiate tokenizer and model\n",
    "    tokenizer = AutoTokenizer.from_pretrained(model_ckpt)\n",
    "    model = TFAutoModel.from_pretrained(model_ckpt, from_pt=True)\n",
    "    # extract features\n",
    "    inputs = tokenizer(text_input, return_tensors=\"tf\")\n",
    "    outputs = model(**inputs)\n",
    "    hidden_states = outputs.last_hidden_state[:, 0].numpy()\n",
    "    # choose model for classification and return prediction and probability\n",
    "    proba = None\n",
    "    class_pred = None\n",
    "    if model_name == \"nn\":\n",
    "        nn_model = keras.models.load_model(f\"nn_model_{model_ckpt}\")\n",
    "        proba = nn_model.predict(hidden_states, verbose=0)[0][0]\n",
    "    elif model_name == \"lr\":\n",
    "        lr_clf_best = load(f\"trained_models/lr_clf_best_{model_ckpt}.joblib\")\n",
    "        proba = lr_clf_best.predict_proba(hidden_states)[0][1]\n",
    "    elif model_name == \"ridge\":\n",
    "        ridge_clf = load(f\"trained_models/ridge_clf_{model_ckpt}.joblib\")\n",
    "        proba = ridge_clf.decision_function(hidden_states)[0]\n",
    "    elif model_name == \"xgb\":\n",
    "        xgb_best = load(f\"trained_models/xgb_best_{model_ckpt}.joblib.dat\")\n",
    "        proba = xgb_best.predict_proba(hidden_states)[0][1]\n",
    "    else:\n",
    "        raise ValueError(\"model must be one of 'nn', 'lr' or 'ridge'\")\n",
    "    if proba > 0.5:\n",
    "        class_pred = \"AI written\"\n",
    "    else:\n",
    "        class_pred = \"not AI written\"\n",
    "    print(f'''Probability of text being AI written: {proba:.2f}\n",
    "The prediction therfore is that the text is {class_pred}''')\n",
    "    return proba, class_pred"
   ]
  },
  {
   "cell_type": "code",
   "execution_count": 320,
   "metadata": {},
   "outputs": [
    {
     "name": "stdout",
     "output_type": "stream",
     "text": [
      "Probability of text being AI written: 1.00\n",
      "The prediction therfore is that the text is AI written\n"
     ]
    },
    {
     "data": {
      "text/plain": [
       "(0.9996794928047869, 'AI written')"
      ]
     },
     "execution_count": 320,
     "metadata": {},
     "output_type": "execute_result"
    }
   ],
   "source": [
    "get_prediction(test_text, model_ckpt=\"roberta-large\", \n",
    "               model_name=\"lr\")"
   ]
  },
  {
   "cell_type": "code",
   "execution_count": null,
   "metadata": {},
   "outputs": [],
   "source": []
  }
 ],
 "metadata": {
  "kernelspec": {
   "display_name": "AI_written_text_identifier",
   "language": "python",
   "name": "python3"
  },
  "language_info": {
   "codemirror_mode": {
    "name": "ipython",
    "version": 3
   },
   "file_extension": ".py",
   "mimetype": "text/x-python",
   "name": "python",
   "nbconvert_exporter": "python",
   "pygments_lexer": "ipython3",
   "version": "3.10.6"
  },
  "orig_nbformat": 4
 },
 "nbformat": 4,
 "nbformat_minor": 2
}
